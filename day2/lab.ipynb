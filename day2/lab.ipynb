{
 "cells": [
  {
   "cell_type": "markdown",
   "metadata": {},
   "source": [
    "# Exercise 1\n",
    "### From the below document, construct a list of all words and a set of unique words.\n",
    "\n",
    "'This breed is gentle, and is tireless when following a scent. Because of its strong tracking instinct, it can be willful and somewhat difficult to obedience train and handle on a leash. Bloodhounds have an affectionate and even-tempered nature with humans, making them excellent family pets.'"
   ]
  },
  {
   "cell_type": "code",
   "execution_count": null,
   "metadata": {},
   "outputs": [],
   "source": [
    "doc = 'Bloodhounds are gentle and tireless when following a scent. \\\n",
    "Bloodhounds have an affectionate and even-tempered nature with humans, \\\n",
    "making them excellent family pets.'"
   ]
  },
  {
   "cell_type": "code",
   "execution_count": null,
   "metadata": {},
   "outputs": [],
   "source": [
    "# Solution\n",
    "\n"
   ]
  },
  {
   "cell_type": "markdown",
   "metadata": {},
   "source": [
    "# Exercise 2\n",
    "### Create a dictionary of word counts for the above document."
   ]
  },
  {
   "cell_type": "code",
   "execution_count": null,
   "metadata": {},
   "outputs": [],
   "source": [
    "doc = 'Bloodhounds are gentle and tireless when following a scent. \\\n",
    "Bloodhounds have an affectionate and even-tempered nature with humans, \\\n",
    "making them excellent family pets.'"
   ]
  },
  {
   "cell_type": "code",
   "execution_count": null,
   "metadata": {},
   "outputs": [],
   "source": [
    "# Solution\n",
    "\n"
   ]
  }
 ],
 "metadata": {
  "kernelspec": {
   "display_name": "Python 3",
   "language": "python",
   "name": "python3"
  },
  "language_info": {
   "codemirror_mode": {
    "name": "ipython",
    "version": 3
   },
   "file_extension": ".py",
   "mimetype": "text/x-python",
   "name": "python",
   "nbconvert_exporter": "python",
   "pygments_lexer": "ipython3",
   "version": "3.7.0"
  }
 },
 "nbformat": 4,
 "nbformat_minor": 2
}
