{
 "cells": [
  {
   "cell_type": "markdown",
   "metadata": {
    "slideshow": {
     "slide_type": "slide"
    }
   },
   "source": [
    "## <center>Outlook </center>\n",
    "\n",
    "### Clustering\n",
    "\n",
    "### Sentiment analysis\n",
    "\n",
    "### Closing"
   ]
  },
  {
   "cell_type": "markdown",
   "metadata": {
    "slideshow": {
     "slide_type": "slide"
    }
   },
   "source": [
    "### <center>Clustering</center>\n",
    "#### You have a numerical representation of a corpus\n",
    "> ##### E.g., n-grams (TFIDF), or topic model\n",
    "\n",
    "#### You want to figure out what's the best way to group documents based on similarity.\n",
    "\n",
    "#### How do you measure similarity?\n",
    "\n",
    "#### Once you know how to measure similarity, how do you group the documents into clusters?"
   ]
  },
  {
   "cell_type": "markdown",
   "metadata": {
    "slideshow": {
     "slide_type": "subslide"
    }
   },
   "source": [
    "### <center>Let's start from X</center>\n",
    "\n",
    "| X|feature_1|feature_2|...|feature_j|...|feature_m|\n",
    "|-|:-:|:-:|:-:|:-:|:-:|:-:|\n",
    "|__Doc_1__|x_11|x_12|...|x_1j|...|x_1m|\n",
    "|__Doc_2__|x_21|x_22|...|x_2j|...|x_2m|\n",
    "|__...__|...|...|...|...|...|...|\n",
    "|__Doc_i__|x_i1|x_i2|...|x_ij|...|x_im|\n",
    "|__...__|...|...|...|...|...|...|\n",
    "|__Doc_n__|x_n1|x_n2|...|x_nj|...|x_nm|\n",
    "\n",
    "##### Each document is represented as a vector:\n",
    "##### Doc_i  is represented as $X_i = [X_{i1}, X_{i2}, ..., X_{ij}, ..., X_{im}]$\n",
    "##### To measure similarity, we calculate a distance metric between two vectors."
   ]
  },
  {
   "cell_type": "markdown",
   "metadata": {
    "slideshow": {
     "slide_type": "subslide"
    }
   },
   "source": [
    "### <center>Some distance metrics </center>\n",
    "##### Geometric distance: $D_G(X_i, X_k) = \\sqrt{\\sum_j (X_{ij} - X_{kj})^2}$,\n",
    "##### Cosine similarity: $D_C(X_i, X_k) = \\frac{\\sum_j X_{ij}X_{kj}}{|X_i||X_k|}$, where $|X_i|$ is the length of the $Doc_i$ vector,\n",
    "##### Kullback-Leibler divergence: $D_{KL}(X_i, X_k) = \\sum_j X_{ij} \\log \\left( \\frac{X_{ij}}{X_{kj}} \\right) $,\n",
    "##### Jensen-Shannon divergence: $D_{JS}(X_i, X_k) = \\frac{1}{2}D_{KL}(X_i, X_a) + \\frac{1}{2}D_{KL}(X_k, X_a)$, where $X_a = \\frac{1}{2} (X_i + X_k)$."
   ]
  },
  {
   "cell_type": "markdown",
   "metadata": {
    "slideshow": {
     "slide_type": "subslide"
    }
   },
   "source": [
    "### <center>K-means clustering</center>\n",
    "\n",
    "<center><img src=\"random.gif\" width=\"500\"></center>\n",
    "\n",
    "#### Hyperparameter: the number of clusters"
   ]
  },
  {
   "cell_type": "markdown",
   "metadata": {
    "slideshow": {
     "slide_type": "subslide"
    }
   },
   "source": [
    "#### <center>Clustering pipeline</center>\n",
    "##### Calculate X\n",
    "##### Set hyperparameters (distance metrics to try, number of clusters)\n",
    "##### Loop through combinations of the hyperparameters\n",
    "> ###### Run k-means clustering (in sklearn or in nltk)\n",
    "##### Save the clusters\n",
    "##### Manually evaluate which hyperparameter combination is the best"
   ]
  },
  {
   "cell_type": "markdown",
   "metadata": {
    "slideshow": {
     "slide_type": "slide"
    }
   },
   "source": [
    "### <center> Sentiment analysis, one approach </center>\n",
    "\n",
    "#### Identify adjectives in the corpus/document using NLTK's PoS tagging\n",
    "___\n",
    "``` python\n",
    "from nltk import word_tokenize, pos_tag\n",
    " \n",
    "print(pos_tag(word_tokenize(\"NLP is great!\"),tagset='universal'))\n",
    "# [('NLP', u'NOUN'), ('is', u'VERB'), ('great', u'ADJ'), ('!', u'.')]\n",
    "```\n",
    "___\n",
    "#### Use sentiment analysis packages to figure out the emotional intensity of adjectives!\n",
    "> ##### Usually each adjective is assigned a score between -1 (very negative) and +1 (very positive) with 0 being neutral\n",
    "\n",
    "#### The sum of scores in a document is an estimate of the document's sentiment."
   ]
  },
  {
   "cell_type": "markdown",
   "metadata": {
    "slideshow": {
     "slide_type": "subslide"
    }
   },
   "source": [
    "# <center> Sentiment analysis, another approach </center>"
   ]
  },
  {
   "cell_type": "code",
   "execution_count": 4,
   "metadata": {
    "slideshow": {
     "slide_type": "-"
    }
   },
   "outputs": [
    {
     "name": "stdout",
     "output_type": "stream",
     "text": [
      "[nltk_data] Downloading package vader_lexicon to\n",
      "[nltk_data]     /Users/azsom/nltk_data...\n",
      "NLP is great!\n",
      "{'neg': 0.0, 'neu': 0.313, 'pos': 0.687, 'compound': 0.6588}\n",
      "The sky is blue.\n",
      "{'neg': 0.0, 'neu': 1.0, 'pos': 0.0, 'compound': 0.0}\n",
      "It sucks to be sick.\n",
      "{'neg': 0.659, 'neu': 0.341, 'pos': 0.0, 'compound': -0.7003}\n"
     ]
    }
   ],
   "source": [
    "\n",
    "from nltk.sentiment.vader import SentimentIntensityAnalyzer\n",
    "import nltk\n",
    "nltk.download('vader_lexicon')\n",
    "\n",
    "sentences = ['NLP is great!','The sky is blue.','It sucks to be sick.']\n",
    "\n",
    "sia = SentimentIntensityAnalyzer()\n",
    "\n",
    "for sentence in sentences:\n",
    "    print(sentence)\n",
    "    ss = sia.polarity_scores(sentence)\n",
    "    print(ss)\n"
   ]
  },
  {
   "cell_type": "markdown",
   "metadata": {
    "slideshow": {
     "slide_type": "slide"
    }
   },
   "source": [
    "## <center>Louis's work</center>"
   ]
  },
  {
   "cell_type": "markdown",
   "metadata": {
    "slideshow": {
     "slide_type": "subslide"
    }
   },
   "source": [
    "### <center> Sentiment analysis as a supervised problem </center>\n",
    "#### Product reviews usually fall into this category.\n",
    "> ##### Users write a review __and__ provide a rating\n",
    "#### IMDb movie reviews range from 1-10"
   ]
  },
  {
   "cell_type": "markdown",
   "metadata": {
    "slideshow": {
     "slide_type": "subslide"
    }
   },
   "source": [
    "#### Tweets and other social media posts\n",
    "> ##### Handlabel tweets on a specific topic into three categories: positive, neutral, negative\n",
    "##### Train a classifier to predict the class of new tweets."
   ]
  },
  {
   "cell_type": "markdown",
   "metadata": {
    "slideshow": {
     "slide_type": "slide"
    }
   },
   "source": [
    "### <center>If you have an NLP/ML problem you are not quite sure how to solve ...</center>\n",
    "#### ... come and talk to us!\n",
    "#### CCV - Institutional Data group\n",
    "#### email:  cis-datascience@brown.edu , andras_zsom@brown.edu\n",
    "#### We are located at Davol square, next to South Street Landing (soon moving to 180 George str)."
   ]
  },
  {
   "cell_type": "markdown",
   "metadata": {
    "slideshow": {
     "slide_type": "slide"
    }
   },
   "source": [
    "# <center>Thanks for joining!</center>"
   ]
  }
 ],
 "metadata": {
  "celltoolbar": "Slideshow",
  "kernelspec": {
   "display_name": "Python 3",
   "language": "python",
   "name": "python3"
  },
  "language_info": {
   "codemirror_mode": {
    "name": "ipython",
    "version": 3
   },
   "file_extension": ".py",
   "mimetype": "text/x-python",
   "name": "python",
   "nbconvert_exporter": "python",
   "pygments_lexer": "ipython3",
   "version": "3.6.7"
  }
 },
 "nbformat": 4,
 "nbformat_minor": 2
}
