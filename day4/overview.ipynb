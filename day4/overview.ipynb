{
 "cells": [
  {
   "cell_type": "markdown",
   "metadata": {
    "slideshow": {
     "slide_type": "slide"
    }
   },
   "source": [
    "### Variables\n",
    "- #### numbers can be integers or floats\n",
    "- #### strings\n",
    "    - #### indexing:  `string[ start_index : end_index (not included) : step_size ]`\n",
    "    - #### some examples: `string[::]`, `string[3:]`, `string[:-3]`, `string[::-1]`\n",
    "- #### boolean variables with a value of True or False\n",
    "    - #### == equality, > greater than, < smaller than,  >= greater or equal, <= smaller or equal"
   ]
  },
  {
   "cell_type": "markdown",
   "metadata": {
    "slideshow": {
     "slide_type": "slide"
    }
   },
   "source": [
    "## Control flow\n",
    "- ### if statements\n",
    "\n",
    "```python\n",
    "if condition:\n",
    "    # instructions with indent\n",
    "elif other_condition:\n",
    "    # other instructions with indent\n",
    "elif ...:\n",
    "    # other instructions  with indent\n",
    "else:\n",
    "    # if everything fails, do this with  indent\n",
    "    \n",
    "```"
   ]
  },
  {
   "cell_type": "markdown",
   "metadata": {
    "slideshow": {
     "slide_type": "subslide"
    }
   },
   "source": [
    "## Control flow\n",
    "- ### for loops\n",
    "\n",
    "```python\n",
    "for element in iterable:\n",
    "    # instructions with indent\n",
    "```"
   ]
  },
  {
   "cell_type": "markdown",
   "metadata": {
    "slideshow": {
     "slide_type": "subslide"
    }
   },
   "source": [
    "- ### some examples\n",
    "\n",
    "```python\n",
    "for character in string:\n",
    "    # instructions with indent\n",
    "    \n",
    "for element in list/set/tuple:\n",
    "    # instructions with indent\n",
    "    \n",
    "for i in range():\n",
    "    # instructions with indent\n",
    "```"
   ]
  },
  {
   "cell_type": "markdown",
   "metadata": {
    "slideshow": {
     "slide_type": "subslide"
    }
   },
   "source": [
    "## Control flow\n",
    "- ### while loops\n",
    "\n",
    "```python\n",
    "while condition:\n",
    "    # instructions with indent\n",
    "```"
   ]
  },
  {
   "cell_type": "markdown",
   "metadata": {
    "slideshow": {
     "slide_type": "slide"
    }
   },
   "source": [
    "## Container types\n",
    "- ### Lists: general, elements can be anything\n",
    "- ### Sets: elements are unique\n",
    "- ### Tuples: immutable\n",
    "- ### Numpy arrays: numbers mostly, in multiple dimensions\n",
    "- ### Pandas dataframes: any type of tabular data"
   ]
  },
  {
   "cell_type": "markdown",
   "metadata": {
    "slideshow": {
     "slide_type": "slide"
    }
   },
   "source": [
    "## Functions\n",
    "- ### Define a function\n",
    "\n",
    "```python\n",
    "def function_name(input(s)):\n",
    "    #  instructions with indent\n",
    "    return output(s)\n",
    "\n",
    "```\n",
    "\n",
    "- ### Call the function\n",
    "\n",
    "```python\n",
    "output(s) = function_name(input(s))\n",
    "```\n"
   ]
  },
  {
   "cell_type": "markdown",
   "metadata": {
    "slideshow": {
     "slide_type": "slide"
    }
   },
   "source": [
    "## List comprehensions\n",
    "### A simple way of creating a list\n",
    "`[output_expression for variable in iterable if condition]`"
   ]
  },
  {
   "cell_type": "markdown",
   "metadata": {
    "slideshow": {
     "slide_type": "subslide"
    }
   },
   "source": [
    "### Examples\n",
    "`[element*2 for element in list]`\n",
    "\n",
    "`[element*2 for element in list if element < 5]`\n",
    "\n",
    "`[function_name(element) for element in list]`\n",
    "\n",
    "`[function_name(element) for element in list if element > 10]`"
   ]
  }
 ],
 "metadata": {
  "celltoolbar": "Slideshow",
  "kernelspec": {
   "display_name": "Python 3",
   "language": "python",
   "name": "python3"
  },
  "language_info": {
   "codemirror_mode": {
    "name": "ipython",
    "version": 3
   },
   "file_extension": ".py",
   "mimetype": "text/x-python",
   "name": "python",
   "nbconvert_exporter": "python",
   "pygments_lexer": "ipython3",
   "version": "3.6.7"
  }
 },
 "nbformat": 4,
 "nbformat_minor": 2
}
