{
 "cells": [
  {
   "cell_type": "markdown",
   "metadata": {
    "slideshow": {
     "slide_type": "slide"
    }
   },
   "source": [
    "# <center>Welcome to Intro to Natural Language Processing</center>\n",
    "# <center>and Machine Learning in Python!</center>\n",
    "\n",
    "# <center>Please go to ccv.jupyter.brown.edu</center>"
   ]
  },
  {
   "cell_type": "markdown",
   "metadata": {
    "slideshow": {
     "slide_type": "slide"
    }
   },
   "source": [
    "# <center> What you learnt so far ... </center>\n",
    "## Coding in general:\n",
    "### - variables and control flow\n",
    "### - used common container types\n",
    "### - used functions, and list comprehensions\n"
   ]
  },
  {
   "cell_type": "markdown",
   "metadata": {
    "slideshow": {
     "slide_type": "slide"
    }
   },
   "source": [
    "# <center>Packages in python </center>\n",
    "## Packages make your life easy\n",
    "#### - e.g., numpy, pandas, matplotlib, scikit learn\n",
    "#### - you don't need to write a function to calculate the mean of some numbers, call np.mean() instead\n",
    "#### - written by software engineers, thoroughly tested by users"
   ]
  },
  {
   "cell_type": "markdown",
   "metadata": {
    "slideshow": {
     "slide_type": "subslide"
    }
   },
   "source": [
    "# <center>Packages in python </center>\n",
    "## Drawback of packages:\n",
    "#### - ALWAYS ALWAYS carefully read the help or the manual!\n",
    "#### - you need to know what you are doing\n",
    "## Only use a function if you understand it well enough to write it yourself *given enough time*."
   ]
  },
  {
   "cell_type": "markdown",
   "metadata": {
    "slideshow": {
     "slide_type": "subslide"
    }
   },
   "source": [
    "## Every coding task you want to do has already been done by someone else before!\n",
    "#### - if you are not sure what package or function to use, google it\n",
    "#### - stackoverflow is an awesome knowledge base for coding problems"
   ]
  },
  {
   "cell_type": "markdown",
   "metadata": {
    "slideshow": {
     "slide_type": "slide"
    }
   },
   "source": [
    "## <center> Visualization with matplotlib </center>\n",
    "### By the end of this and the next session, you will be able to\n",
    "#### - prepare basic plots using matplotlib (line, scatter, bar, histogram, heatmap)\n",
    "#### - identify and fix common errors that occur while plotting\n",
    "#### - design effective plots to deliver your intended message"
   ]
  },
  {
   "cell_type": "markdown",
   "metadata": {
    "slideshow": {
     "slide_type": "slide"
    }
   },
   "source": [
    "# <center> Let's generate some data to plot first! </center>\n",
    "## Question:\n",
    "## How many documents contain 0-100, 100-200, 200-300, ... words?"
   ]
  },
  {
   "cell_type": "code",
   "execution_count": null,
   "metadata": {
    "slideshow": {
     "slide_type": "subslide"
    }
   },
   "outputs": [],
   "source": [
    "import numpy as np\n",
    "np.random.seed(0)\n",
    "\n",
    "# simulated word counts\n",
    "nr_words = np.random.lognormal(6, 1, 1000).astype(int)\n",
    "\n",
    "print('The shortest document has ', np.min(nr_words), ' words.')\n",
    "print('The longest document has ', np.max(nr_words), ' words.')\n",
    "\n",
    "print(nr_words)"
   ]
  },
  {
   "cell_type": "code",
   "execution_count": null,
   "metadata": {
    "scrolled": true,
    "slideshow": {
     "slide_type": "subslide"
    }
   },
   "outputs": [],
   "source": [
    "# let's bin these numbers\n",
    "bin_edges = np.arange(0,10000,100)\n",
    "\n",
    "print(bin_edges)\n",
    "\n",
    "nr_docs_in_bins = np.zeros(len(bin_edges)-1)\n",
    "\n",
    "for i in range(len(nr_docs_in_bins)):\n",
    "    nr_docs_in_bins[i] = sum([1 for nr_word in nr_words if (nr_word > bin_edges[i])&(nr_word < bin_edges[i+1])])\n",
    "    \n",
    "    # let's print the results\n",
    "    print('There are',nr_docs_in_bins[i],'documents that contain',bin_edges[i],'to',bin_edges[i+1],'words.')\n"
   ]
  },
  {
   "cell_type": "markdown",
   "metadata": {
    "slideshow": {
     "slide_type": "slide"
    }
   },
   "source": [
    "### Exercise 1\n",
    "#### How would you test that the code works properly?"
   ]
  },
  {
   "cell_type": "code",
   "execution_count": null,
   "metadata": {
    "scrolled": true,
    "slideshow": {
     "slide_type": "subslide"
    }
   },
   "outputs": [],
   "source": [
    "bin_edges = np.arange(0,10000,100)\n",
    "\n",
    "nr_docs_in_bins = np.zeros(len(bin_edges)-1)\n",
    "\n",
    "for i in range(len(nr_docs_in_bins)):\n",
    "    nr_docs_in_bins[i] = sum([1 for nr_word in nr_words if (nr_word > bin_edges[i])&(nr_word < bin_edges[i+1])])\n",
    "\n",
    "    # let's print the results\n",
    "    #print('There are',nr_docs_in_bins[i],'documents that contain'\\\n",
    "    #      ,bin_edges[i],'to',bin_edges[i+1],'words.')\n",
    "\n",
    "# add test here\n"
   ]
  },
  {
   "cell_type": "markdown",
   "metadata": {
    "slideshow": {
     "slide_type": "slide"
    }
   },
   "source": [
    "## Exercise 2\n",
    "### Why aren't all the documents counted?\n",
    "### What's wrong with the code?\n"
   ]
  },
  {
   "cell_type": "code",
   "execution_count": null,
   "metadata": {
    "slideshow": {
     "slide_type": "subslide"
    }
   },
   "outputs": [],
   "source": [
    "bin_edges = np.arange(0,10000,100)\n",
    "\n",
    "nr_docs_in_bins = np.zeros(len(bin_edges)-1)\n",
    "\n",
    "for i in range(len(nr_docs_in_bins)):\n",
    "    nr_docs_in_bins[i] = sum([1 for nr_word in nr_words if (nr_word >= bin_edges[i])&(nr_word < bin_edges[i+1])])\n",
    "\n",
    "    # let's print the results\n",
    "    #print('There are',nr_docs_in_bins[i],'documents that contain',bin_edges[i],'to',bin_edges[i+1],'words.')\n",
    "\n",
    "# add test here"
   ]
  },
  {
   "cell_type": "markdown",
   "metadata": {
    "slideshow": {
     "slide_type": "slide"
    }
   },
   "source": [
    "## <center> Simple line plot using plt.plot </center>\n",
    "### Always carefully read the help of the function you want to use first!\n",
    "#### My experience is that most errors/bugs occur because I didn't read the help carefully enough."
   ]
  },
  {
   "cell_type": "code",
   "execution_count": null,
   "metadata": {
    "slideshow": {
     "slide_type": "subslide"
    }
   },
   "outputs": [],
   "source": [
    "import matplotlib.pyplot as plt\n",
    "import matplotlib\n",
    "\n",
    "help(plt.plot)"
   ]
  },
  {
   "cell_type": "markdown",
   "metadata": {
    "slideshow": {
     "slide_type": "subslide"
    }
   },
   "source": [
    "# <center> General matplotlib code structure </center>"
   ]
  },
  {
   "cell_type": "code",
   "execution_count": null,
   "metadata": {
    "slideshow": {
     "slide_type": "subslide"
    }
   },
   "outputs": [],
   "source": [
    "# import matplotlib\n",
    "import matplotlib.pyplot as plt\n",
    "#import matplotlib\n",
    "\n",
    "# define your canvas\n",
    "plt.figure(figsize=(8,6))\n",
    "\n",
    "# draw on the figure, define the properties of the line or marker\n",
    "plt.plot(x1,y1,'bo',markersize=12)\n",
    "plt.plot(x2,y2,'--')\n",
    "\n",
    "# modify the properties of the figure\n",
    "# axis labels, title, x and y limits, etc.\n",
    "plt.xlim([x_low,x_high])\n",
    "plt.ylim([y_low,y_high])\n",
    "plt.xlabel('the name of quantity x')\n",
    "plt.ylabel('the name of quantity y')\n",
    "plt.title('plot title')\n",
    "\n",
    "# show the figure in the notebook or save it as a file\n",
    "plt.show()\n",
    "plt.savefig('figure.jpg',dpi=150)"
   ]
  },
  {
   "cell_type": "code",
   "execution_count": null,
   "metadata": {
    "slideshow": {
     "slide_type": "subslide"
    }
   },
   "outputs": [],
   "source": [
    "import matplotlib.pyplot as plt\n",
    "\n",
    "plt.figure(figsize=(8,6))\n",
    "plt.plot(nr_docs_in_bins)\n",
    "plt.show()"
   ]
  },
  {
   "cell_type": "markdown",
   "metadata": {
    "slideshow": {
     "slide_type": "subslide"
    }
   },
   "source": [
    "## Exercise 3\n",
    "### How would you improve this plot?"
   ]
  },
  {
   "cell_type": "code",
   "execution_count": null,
   "metadata": {
    "scrolled": true,
    "slideshow": {
     "slide_type": "subslide"
    }
   },
   "outputs": [],
   "source": [
    "# x should not be the index of an array but the number of words\n",
    "\n",
    "plt.figure(figsize=(8,6))\n",
    "plt.plot(bin_edges,nr_docs_in_bins)\n",
    "plt.show()"
   ]
  },
  {
   "cell_type": "code",
   "execution_count": null,
   "metadata": {
    "slideshow": {
     "slide_type": "subslide"
    }
   },
   "outputs": [],
   "source": [
    "plt.figure(figsize=(8,6))\n",
    "bin_center = (bin_edges[1:] + bin_edges[:-1])/2\n",
    "plt.plot(bin_center,nr_docs_in_bins)\n",
    "plt.show()"
   ]
  },
  {
   "cell_type": "code",
   "execution_count": null,
   "metadata": {
    "slideshow": {
     "slide_type": "subslide"
    }
   },
   "outputs": [],
   "source": [
    "# add x and y labels, and a title\n",
    "plt.figure(figsize=(8,6))\n",
    "bin_center = (bin_edges[1:] + bin_edges[:-1])/2\n",
    "plt.plot(bin_center,nr_docs_in_bins)\n",
    "plt.xlabel('nr. of words in doc')\n",
    "plt.ylabel('nr. of docs')\n",
    "plt.title('histogram')\n",
    "plt.show()"
   ]
  },
  {
   "cell_type": "code",
   "execution_count": null,
   "metadata": {
    "slideshow": {
     "slide_type": "subslide"
    }
   },
   "outputs": [],
   "source": [
    "# increase font size\n",
    "import matplotlib\n",
    "matplotlib.rcParams.update({'font.size': 16})\n",
    "\n",
    "plt.figure(figsize=(8,6))\n",
    "bin_center = (bin_edges[1:] + bin_edges[:-1])/2\n",
    "plt.plot(bin_center,nr_docs_in_bins)\n",
    "plt.xlabel('nr. of words in doc')\n",
    "plt.ylabel('nr. of docs')\n",
    "plt.title('histogram')\n",
    "plt.show()"
   ]
  },
  {
   "cell_type": "code",
   "execution_count": null,
   "metadata": {
    "slideshow": {
     "slide_type": "subslide"
    }
   },
   "outputs": [],
   "source": [
    "# focus on the important area\n",
    "matplotlib.rcParams.update({'font.size': 16})\n",
    "\n",
    "plt.figure(figsize=(8,6))\n",
    "bin_center = (bin_edges[1:] + bin_edges[:-1])/2\n",
    "plt.plot(bin_center,nr_docs_in_bins)\n",
    "plt.xlim([0,2000])\n",
    "plt.xlabel('nr. of words in doc')\n",
    "plt.ylabel('nr. of docs')\n",
    "plt.title('histogram')\n",
    "plt.show()"
   ]
  },
  {
   "cell_type": "code",
   "execution_count": null,
   "metadata": {
    "slideshow": {
     "slide_type": "subslide"
    }
   },
   "outputs": [],
   "source": [
    "# plot the points and the lines\n",
    "\n",
    "plt.figure(figsize=(8,6))\n",
    "bin_center = (bin_edges[1:] + bin_edges[:-1])/2\n",
    "plt.plot(bin_center,nr_docs_in_bins,'o')\n",
    "plt.plot(bin_center,nr_docs_in_bins)\n",
    "plt.xlim([0,2000])\n",
    "plt.xlabel('nr. of words in doc')\n",
    "plt.ylabel('nr. of docs')\n",
    "plt.title('histogram')\n",
    "plt.show()"
   ]
  }
 ],
 "metadata": {
  "celltoolbar": "Slideshow",
  "kernelspec": {
   "display_name": "Python 3",
   "language": "python",
   "name": "python3"
  },
  "language_info": {
   "codemirror_mode": {
    "name": "ipython",
    "version": 3
   },
   "file_extension": ".py",
   "mimetype": "text/x-python",
   "name": "python",
   "nbconvert_exporter": "python",
   "pygments_lexer": "ipython3",
   "version": "3.6.7"
  }
 },
 "nbformat": 4,
 "nbformat_minor": 2
}
