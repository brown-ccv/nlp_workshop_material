{
 "cells": [
  {
   "cell_type": "markdown",
   "metadata": {
    "slideshow": {
     "slide_type": "slide"
    }
   },
   "source": [
    "# <center>Welcome to Intro to Natural Language Processing</center>\n",
    "# <center>and Machine Learning in Python!</center>\n",
    "\n",
    "# <center>Please go to ccv.jupyter.brown.edu</center>"
   ]
  },
  {
   "cell_type": "markdown",
   "metadata": {
    "slideshow": {
     "slide_type": "slide"
    }
   },
   "source": [
    "# <center> What you learnt so far ... </center>\n",
    "## Coding in general:\n",
    "### - variables and control flow\n",
    "### - used common container types\n",
    "### - used functions, and list comprehensions\n"
   ]
  },
  {
   "cell_type": "markdown",
   "metadata": {
    "slideshow": {
     "slide_type": "slide"
    }
   },
   "source": [
    "# <center>Packages in python </center>\n",
    "## Packages make your life easy\n",
    "#### - e.g., numpy, pandas, matplotlib, scikit learn\n",
    "#### - you don't need to write a function to calculate the mean of some numbers, call np.mean() instead\n",
    "#### - written by software engineers, thoroughly tested by users"
   ]
  },
  {
   "cell_type": "markdown",
   "metadata": {
    "slideshow": {
     "slide_type": "subslide"
    }
   },
   "source": [
    "# <center>Packages in python </center>\n",
    "## Drawback of packages:\n",
    "#### - ALWAYS ALWAYS carefully read the help or the manual!\n",
    "#### - you need to know what you are doing\n",
    "## Only use a function if you understand it well enough to write it yourself *given enough time*."
   ]
  },
  {
   "cell_type": "markdown",
   "metadata": {
    "slideshow": {
     "slide_type": "subslide"
    }
   },
   "source": [
    "## Every coding task you want to do has already been done by someone else before!\n",
    "#### - if you are not sure what package or function to use, google it\n",
    "#### - stackoverflow is an awesome knowledge base for coding problems"
   ]
  },
  {
   "cell_type": "markdown",
   "metadata": {
    "slideshow": {
     "slide_type": "slide"
    }
   },
   "source": [
    "## <center> Visualization with matplotlib </center>\n",
    "### By the end of this and the next session, you will be able to\n",
    "#### - prepare basic plots using matplotlib (line, scatter, bar, histogram, heatmap)\n",
    "#### - identify and fix common errors that occur while plotting\n",
    "#### - design effective plots to deliver your intended message"
   ]
  },
  {
   "cell_type": "markdown",
   "metadata": {
    "slideshow": {
     "slide_type": "slide"
    }
   },
   "source": [
    "# <center> Let's generate some data to plot first! </center>\n",
    "## Question:\n",
    "## How many documents contain 0-100, 100-200, 200-300, ... words?"
   ]
  },
  {
   "cell_type": "code",
   "execution_count": 2,
   "metadata": {
    "slideshow": {
     "slide_type": "subslide"
    }
   },
   "outputs": [
    {
     "name": "stdout",
     "output_type": "stream",
     "text": [
      "The shortest document has  19  words.\n",
      "The longest document has  6370  words.\n"
     ]
    }
   ],
   "source": [
    "import numpy as np\n",
    "np.random.seed(0)\n",
    "\n",
    "# simulated word counts\n",
    "nr_words = np.random.lognormal(6, 1, 1000).astype(int)\n",
    "\n",
    "print('The shortest document has ', np.min(nr_words), ' words.')\n",
    "print('The longest document has ', np.max(nr_words), ' words.')"
   ]
  },
  {
   "cell_type": "code",
   "execution_count": 3,
   "metadata": {
    "slideshow": {
     "slide_type": "subslide"
    }
   },
   "outputs": [
    {
     "name": "stdout",
     "output_type": "stream",
     "text": [
      "There are 84.0 documents that contain 0 to 100 words.\n",
      "There are 166.0 documents that contain 100 to 200 words.\n",
      "There are 160.0 documents that contain 200 to 300 words.\n",
      "There are 113.0 documents that contain 300 to 400 words.\n",
      "There are 83.0 documents that contain 400 to 500 words.\n",
      "There are 77.0 documents that contain 500 to 600 words.\n",
      "There are 55.0 documents that contain 600 to 700 words.\n",
      "There are 34.0 documents that contain 700 to 800 words.\n",
      "There are 31.0 documents that contain 800 to 900 words.\n",
      "There are 27.0 documents that contain 900 to 1000 words.\n",
      "There are 28.0 documents that contain 1000 to 1100 words.\n",
      "There are 18.0 documents that contain 1100 to 1200 words.\n",
      "There are 14.0 documents that contain 1200 to 1300 words.\n",
      "There are 9.0 documents that contain 1300 to 1400 words.\n",
      "There are 9.0 documents that contain 1400 to 1500 words.\n",
      "There are 12.0 documents that contain 1500 to 1600 words.\n",
      "There are 7.0 documents that contain 1600 to 1700 words.\n",
      "There are 9.0 documents that contain 1700 to 1800 words.\n",
      "There are 6.0 documents that contain 1800 to 1900 words.\n",
      "There are 3.0 documents that contain 1900 to 2000 words.\n",
      "There are 1.0 documents that contain 2000 to 2100 words.\n",
      "There are 6.0 documents that contain 2100 to 2200 words.\n",
      "There are 5.0 documents that contain 2200 to 2300 words.\n",
      "There are 3.0 documents that contain 2300 to 2400 words.\n",
      "There are 2.0 documents that contain 2400 to 2500 words.\n",
      "There are 2.0 documents that contain 2500 to 2600 words.\n",
      "There are 4.0 documents that contain 2600 to 2700 words.\n",
      "There are 3.0 documents that contain 2700 to 2800 words.\n",
      "There are 3.0 documents that contain 2800 to 2900 words.\n",
      "There are 1.0 documents that contain 2900 to 3000 words.\n",
      "There are 3.0 documents that contain 3000 to 3100 words.\n",
      "There are 1.0 documents that contain 3100 to 3200 words.\n",
      "There are 0.0 documents that contain 3200 to 3300 words.\n",
      "There are 1.0 documents that contain 3300 to 3400 words.\n",
      "There are 2.0 documents that contain 3400 to 3500 words.\n",
      "There are 1.0 documents that contain 3500 to 3600 words.\n",
      "There are 0.0 documents that contain 3600 to 3700 words.\n",
      "There are 2.0 documents that contain 3700 to 3800 words.\n",
      "There are 2.0 documents that contain 3800 to 3900 words.\n",
      "There are 1.0 documents that contain 3900 to 4000 words.\n",
      "There are 1.0 documents that contain 4000 to 4100 words.\n",
      "There are 1.0 documents that contain 4100 to 4200 words.\n",
      "There are 1.0 documents that contain 4200 to 4300 words.\n",
      "There are 2.0 documents that contain 4300 to 4400 words.\n",
      "There are 0.0 documents that contain 4400 to 4500 words.\n",
      "There are 1.0 documents that contain 4500 to 4600 words.\n",
      "There are 0.0 documents that contain 4600 to 4700 words.\n",
      "There are 0.0 documents that contain 4700 to 4800 words.\n",
      "There are 0.0 documents that contain 4800 to 4900 words.\n",
      "There are 1.0 documents that contain 4900 to 5000 words.\n",
      "There are 0.0 documents that contain 5000 to 5100 words.\n",
      "There are 0.0 documents that contain 5100 to 5200 words.\n",
      "There are 0.0 documents that contain 5200 to 5300 words.\n",
      "There are 0.0 documents that contain 5300 to 5400 words.\n",
      "There are 1.0 documents that contain 5400 to 5500 words.\n",
      "There are 0.0 documents that contain 5500 to 5600 words.\n",
      "There are 0.0 documents that contain 5600 to 5700 words.\n",
      "There are 0.0 documents that contain 5700 to 5800 words.\n",
      "There are 0.0 documents that contain 5800 to 5900 words.\n",
      "There are 1.0 documents that contain 5900 to 6000 words.\n",
      "There are 0.0 documents that contain 6000 to 6100 words.\n",
      "There are 0.0 documents that contain 6100 to 6200 words.\n",
      "There are 0.0 documents that contain 6200 to 6300 words.\n",
      "There are 1.0 documents that contain 6300 to 6400 words.\n",
      "There are 0.0 documents that contain 6400 to 6500 words.\n",
      "There are 0.0 documents that contain 6500 to 6600 words.\n",
      "There are 0.0 documents that contain 6600 to 6700 words.\n",
      "There are 0.0 documents that contain 6700 to 6800 words.\n",
      "There are 0.0 documents that contain 6800 to 6900 words.\n",
      "There are 0.0 documents that contain 6900 to 7000 words.\n",
      "There are 0.0 documents that contain 7000 to 7100 words.\n",
      "There are 0.0 documents that contain 7100 to 7200 words.\n",
      "There are 0.0 documents that contain 7200 to 7300 words.\n",
      "There are 0.0 documents that contain 7300 to 7400 words.\n",
      "There are 0.0 documents that contain 7400 to 7500 words.\n",
      "There are 0.0 documents that contain 7500 to 7600 words.\n",
      "There are 0.0 documents that contain 7600 to 7700 words.\n",
      "There are 0.0 documents that contain 7700 to 7800 words.\n",
      "There are 0.0 documents that contain 7800 to 7900 words.\n",
      "There are 0.0 documents that contain 7900 to 8000 words.\n",
      "There are 0.0 documents that contain 8000 to 8100 words.\n",
      "There are 0.0 documents that contain 8100 to 8200 words.\n",
      "There are 0.0 documents that contain 8200 to 8300 words.\n",
      "There are 0.0 documents that contain 8300 to 8400 words.\n",
      "There are 0.0 documents that contain 8400 to 8500 words.\n",
      "There are 0.0 documents that contain 8500 to 8600 words.\n",
      "There are 0.0 documents that contain 8600 to 8700 words.\n",
      "There are 0.0 documents that contain 8700 to 8800 words.\n",
      "There are 0.0 documents that contain 8800 to 8900 words.\n",
      "There are 0.0 documents that contain 8900 to 9000 words.\n",
      "There are 0.0 documents that contain 9000 to 9100 words.\n",
      "There are 0.0 documents that contain 9100 to 9200 words.\n",
      "There are 0.0 documents that contain 9200 to 9300 words.\n",
      "There are 0.0 documents that contain 9300 to 9400 words.\n",
      "There are 0.0 documents that contain 9400 to 9500 words.\n",
      "There are 0.0 documents that contain 9500 to 9600 words.\n",
      "There are 0.0 documents that contain 9600 to 9700 words.\n",
      "There are 0.0 documents that contain 9700 to 9800 words.\n",
      "There are 0.0 documents that contain 9800 to 9900 words.\n"
     ]
    }
   ],
   "source": [
    "# let's bin these numbers\n",
    "bin_edges = np.arange(0,10000,100)\n",
    "\n",
    "nr_docs_in_bins = np.zeros(len(bin_edges)-1)\n",
    "\n",
    "for i in range(len(nr_docs_in_bins)):\n",
    "    nr_docs_in_bins[i] = sum( (nr_words > bin_edges[i]) & \\\n",
    "                             (nr_words < bin_edges[i+1]) )\n",
    "    # let's print the results\n",
    "    print('There are',nr_docs_in_bins[i],'documents that contain',bin_edges[i],'to',bin_edges[i+1],'words.')\n"
   ]
  },
  {
   "cell_type": "markdown",
   "metadata": {
    "slideshow": {
     "slide_type": "slide"
    }
   },
   "source": [
    "### Exercise 1\n",
    "#### How would you test that the code works properly?"
   ]
  },
  {
   "cell_type": "code",
   "execution_count": 4,
   "metadata": {
    "slideshow": {
     "slide_type": "subslide"
    }
   },
   "outputs": [],
   "source": [
    "bin_edges = np.arange(0,10000,100)\n",
    "\n",
    "nr_docs_in_bins = np.zeros(len(bin_edges)-1)\n",
    "\n",
    "for i in range(len(nr_docs_in_bins)):\n",
    "    nr_docs_in_bins[i] = sum((nr_words > bin_edges[i]) & \\\n",
    "                           (nr_words < bin_edges[i+1]))\n",
    "    # let's print the results\n",
    "    #print('There are',nr_docs_in_bins[i],'documents that contain'\\\n",
    "    #      ,bin_edges[i],'to',bin_edges[i+1],'words.')\n",
    "\n",
    "# add test here\n"
   ]
  },
  {
   "cell_type": "markdown",
   "metadata": {
    "slideshow": {
     "slide_type": "slide"
    }
   },
   "source": [
    "## Exercise 2\n",
    "### Why aren't all the documents counted?\n",
    "### What's wrong with the code?\n"
   ]
  },
  {
   "cell_type": "code",
   "execution_count": 16,
   "metadata": {
    "slideshow": {
     "slide_type": "subslide"
    }
   },
   "outputs": [],
   "source": [
    "bin_edges = np.arange(0,10000,100)\n",
    "\n",
    "nr_docs_in_bins = np.zeros(len(bin_edges)-1)\n",
    "\n",
    "for i in range(len(nr_docs_in_bins)):\n",
    "    nr_docs_in_bins[i] = sum((nr_words > bin_edges[i]) & \\\n",
    "                             (nr_words < bin_edges[i+1]))\n",
    "    # let's print the results\n",
    "    #print('There are',nr_docs_in_bins[i],'documents that contain',bin_edges[i],'to',bin_edges[i+1],'words.')\n",
    "\n",
    "# sanity check: were all the documents counted?\n",
    "if len(nr_words) != sum(nr_docs_in_bins):\n",
    "    print('not all documents were counted!')\n",
    "    print('there are',len(nr_words),'docs in the dataset.')\n",
    "    print(sum(nr_docs_in_bins),'docs were counted.')\n",
    "    raise ValueError"
   ]
  },
  {
   "cell_type": "markdown",
   "metadata": {
    "slideshow": {
     "slide_type": "slide"
    }
   },
   "source": [
    "## <center> Simple line plot using plt.plot </center>\n",
    "### Always carefully read the help of the function you want to use first!\n",
    "#### My experience is that most errors/bugs occur because I didn't read the help carefully enough."
   ]
  },
  {
   "cell_type": "code",
   "execution_count": 12,
   "metadata": {
    "slideshow": {
     "slide_type": "subslide"
    }
   },
   "outputs": [
    {
     "name": "stdout",
     "output_type": "stream",
     "text": [
      "Help on function plot in module matplotlib.pyplot:\n",
      "\n",
      "plot(*args, scalex=True, scaley=True, data=None, **kwargs)\n",
      "    Plot y versus x as lines and/or markers.\n",
      "    \n",
      "    Call signatures::\n",
      "    \n",
      "        plot([x], y, [fmt], *, data=None, **kwargs)\n",
      "        plot([x], y, [fmt], [x2], y2, [fmt2], ..., **kwargs)\n",
      "    \n",
      "    The coordinates of the points or line nodes are given by *x*, *y*.\n",
      "    \n",
      "    The optional parameter *fmt* is a convenient way for defining basic\n",
      "    formatting like color, marker and linestyle. It's a shortcut string\n",
      "    notation described in the *Notes* section below.\n",
      "    \n",
      "    >>> plot(x, y)        # plot x and y using default line style and color\n",
      "    >>> plot(x, y, 'bo')  # plot x and y using blue circle markers\n",
      "    >>> plot(y)           # plot y using x as index array 0..N-1\n",
      "    >>> plot(y, 'r+')     # ditto, but with red plusses\n",
      "    \n",
      "    You can use `.Line2D` properties as keyword arguments for more\n",
      "    control on the appearance. Line properties and *fmt* can be mixed.\n",
      "    The following two calls yield identical results:\n",
      "    \n",
      "    >>> plot(x, y, 'go--', linewidth=2, markersize=12)\n",
      "    >>> plot(x, y, color='green', marker='o', linestyle='dashed',\n",
      "    ...      linewidth=2, markersize=12)\n",
      "    \n",
      "    When conflicting with *fmt*, keyword arguments take precedence.\n",
      "    \n",
      "    \n",
      "    **Plotting labelled data**\n",
      "    \n",
      "    There's a convenient way for plotting objects with labelled data (i.e.\n",
      "    data that can be accessed by index ``obj['y']``). Instead of giving\n",
      "    the data in *x* and *y*, you can provide the object in the *data*\n",
      "    parameter and just give the labels for *x* and *y*::\n",
      "    \n",
      "    >>> plot('xlabel', 'ylabel', data=obj)\n",
      "    \n",
      "    All indexable objects are supported. This could e.g. be a `dict`, a\n",
      "    `pandas.DataFame` or a structured numpy array.\n",
      "    \n",
      "    \n",
      "    **Plotting multiple sets of data**\n",
      "    \n",
      "    There are various ways to plot multiple sets of data.\n",
      "    \n",
      "    - The most straight forward way is just to call `plot` multiple times.\n",
      "      Example:\n",
      "    \n",
      "      >>> plot(x1, y1, 'bo')\n",
      "      >>> plot(x2, y2, 'go')\n",
      "    \n",
      "    - Alternatively, if your data is already a 2d array, you can pass it\n",
      "      directly to *x*, *y*. A separate data set will be drawn for every\n",
      "      column.\n",
      "    \n",
      "      Example: an array ``a`` where the first column represents the *x*\n",
      "      values and the other columns are the *y* columns::\n",
      "    \n",
      "      >>> plot(a[0], a[1:])\n",
      "    \n",
      "    - The third way is to specify multiple sets of *[x]*, *y*, *[fmt]*\n",
      "      groups::\n",
      "    \n",
      "      >>> plot(x1, y1, 'g^', x2, y2, 'g-')\n",
      "    \n",
      "      In this case, any additional keyword argument applies to all\n",
      "      datasets. Also this syntax cannot be combined with the *data*\n",
      "      parameter.\n",
      "    \n",
      "    By default, each line is assigned a different style specified by a\n",
      "    'style cycle'. The *fmt* and line property parameters are only\n",
      "    necessary if you want explicit deviations from these defaults.\n",
      "    Alternatively, you can also change the style cycle using the\n",
      "    'axes.prop_cycle' rcParam.\n",
      "    \n",
      "    \n",
      "    Parameters\n",
      "    ----------\n",
      "    x, y : array-like or scalar\n",
      "        The horizontal / vertical coordinates of the data points.\n",
      "        *x* values are optional and default to `range(len(y))`.\n",
      "    \n",
      "        Commonly, these parameters are 1D arrays.\n",
      "    \n",
      "        They can also be scalars, or two-dimensional (in that case, the\n",
      "        columns represent separate data sets).\n",
      "    \n",
      "        These arguments cannot be passed as keywords.\n",
      "    \n",
      "    fmt : str, optional\n",
      "        A format string, e.g. 'ro' for red circles. See the *Notes*\n",
      "        section for a full description of the format strings.\n",
      "    \n",
      "        Format strings are just an abbreviation for quickly setting\n",
      "        basic line properties. All of these and more can also be\n",
      "        controlled by keyword arguments.\n",
      "    \n",
      "        This argument cannot be passed as keyword.\n",
      "    \n",
      "    data : indexable object, optional\n",
      "        An object with labelled data. If given, provide the label names to\n",
      "        plot in *x* and *y*.\n",
      "    \n",
      "        .. note::\n",
      "            Technically there's a slight ambiguity in calls where the\n",
      "            second label is a valid *fmt*. `plot('n', 'o', data=obj)`\n",
      "            could be `plt(x, y)` or `plt(y, fmt)`. In such cases,\n",
      "            the former interpretation is chosen, but a warning is issued.\n",
      "            You may suppress the warning by adding an empty format string\n",
      "            `plot('n', 'o', '', data=obj)`.\n",
      "    \n",
      "    Other Parameters\n",
      "    ----------------\n",
      "    scalex, scaley : bool, optional, default: True\n",
      "        These parameters determined if the view limits are adapted to\n",
      "        the data limits. The values are passed on to `autoscale_view`.\n",
      "    \n",
      "    **kwargs : `.Line2D` properties, optional\n",
      "        *kwargs* are used to specify properties like a line label (for\n",
      "        auto legends), linewidth, antialiasing, marker face color.\n",
      "        Example::\n",
      "    \n",
      "        >>> plot([1,2,3], [1,2,3], 'go-', label='line 1', linewidth=2)\n",
      "        >>> plot([1,2,3], [1,4,9], 'rs',  label='line 2')\n",
      "    \n",
      "        If you make multiple lines with one plot command, the kwargs\n",
      "        apply to all those lines.\n",
      "    \n",
      "        Here is a list of available `.Line2D` properties:\n",
      "    \n",
      "      agg_filter: a filter function, which takes a (m, n, 3) float array and a dpi value, and returns a (m, n, 3) array\n",
      "      alpha: float\n",
      "      animated: bool\n",
      "      antialiased or aa: bool\n",
      "      clip_box: `.Bbox`\n",
      "      clip_on: bool\n",
      "      clip_path: [(`~matplotlib.path.Path`, `.Transform`) | `.Patch` | None]\n",
      "      color or c: color\n",
      "      contains: callable\n",
      "      dash_capstyle: {'butt', 'round', 'projecting'}\n",
      "      dash_joinstyle: {'miter', 'round', 'bevel'}\n",
      "      dashes: sequence of floats (on/off ink in points) or (None, None)\n",
      "      drawstyle or ds: {'default', 'steps', 'steps-pre', 'steps-mid', 'steps-post'}, default: 'default'\n",
      "      figure: `.Figure`\n",
      "      fillstyle: {'full', 'left', 'right', 'bottom', 'top', 'none'}\n",
      "      gid: str\n",
      "      in_layout: bool\n",
      "      label: object\n",
      "      linestyle or ls: {'-', '--', '-.', ':', '', (offset, on-off-seq), ...}\n",
      "      linewidth or lw: float\n",
      "      marker: marker style\n",
      "      markeredgecolor or mec: color\n",
      "      markeredgewidth or mew: float\n",
      "      markerfacecolor or mfc: color\n",
      "      markerfacecoloralt or mfcalt: color\n",
      "      markersize or ms: float\n",
      "      markevery: None or int or (int, int) or slice or List[int] or float or (float, float)\n",
      "      path_effects: `.AbstractPathEffect`\n",
      "      picker: float or callable[[Artist, Event], Tuple[bool, dict]]\n",
      "      pickradius: float\n",
      "      rasterized: bool or None\n",
      "      sketch_params: (scale: float, length: float, randomness: float)\n",
      "      snap: bool or None\n",
      "      solid_capstyle: {'butt', 'round', 'projecting'}\n",
      "      solid_joinstyle: {'miter', 'round', 'bevel'}\n",
      "      transform: `matplotlib.transforms.Transform`\n",
      "      url: str\n",
      "      visible: bool\n",
      "      xdata: 1D array\n",
      "      ydata: 1D array\n",
      "      zorder: float\n",
      "    \n",
      "    Returns\n",
      "    -------\n",
      "    lines\n",
      "        A list of `.Line2D` objects representing the plotted data.\n",
      "    \n",
      "    See Also\n",
      "    --------\n",
      "    scatter : XY scatter plot with markers of varying size and/or color (\n",
      "        sometimes also called bubble chart).\n",
      "    \n",
      "    Notes\n",
      "    -----\n",
      "    **Format Strings**\n",
      "    \n",
      "    A format string consists of a part for color, marker and line::\n",
      "    \n",
      "        fmt = '[marker][line][color]'\n",
      "    \n",
      "    Each of them is optional. If not provided, the value from the style\n",
      "    cycle is used. Exception: If ``line`` is given, but no ``marker``,\n",
      "    the data will be a line without markers.\n",
      "    \n",
      "    Other combinations such as ``[color][marker][line]`` are also\n",
      "    supported, but note that their parsing may be ambiguous.\n",
      "    \n",
      "    **Markers**\n",
      "    \n",
      "    =============    ===============================\n",
      "    character        description\n",
      "    =============    ===============================\n",
      "    ``'.'``          point marker\n",
      "    ``','``          pixel marker\n",
      "    ``'o'``          circle marker\n",
      "    ``'v'``          triangle_down marker\n",
      "    ``'^'``          triangle_up marker\n",
      "    ``'<'``          triangle_left marker\n",
      "    ``'>'``          triangle_right marker\n",
      "    ``'1'``          tri_down marker\n",
      "    ``'2'``          tri_up marker\n",
      "    ``'3'``          tri_left marker\n",
      "    ``'4'``          tri_right marker\n",
      "    ``'s'``          square marker\n",
      "    ``'p'``          pentagon marker\n",
      "    ``'*'``          star marker\n",
      "    ``'h'``          hexagon1 marker\n",
      "    ``'H'``          hexagon2 marker\n",
      "    ``'+'``          plus marker\n",
      "    ``'x'``          x marker\n",
      "    ``'D'``          diamond marker\n",
      "    ``'d'``          thin_diamond marker\n",
      "    ``'|'``          vline marker\n",
      "    ``'_'``          hline marker\n",
      "    =============    ===============================\n",
      "    \n",
      "    **Line Styles**\n",
      "    \n",
      "    =============    ===============================\n",
      "    character        description\n",
      "    =============    ===============================\n",
      "    ``'-'``          solid line style\n",
      "    ``'--'``         dashed line style\n",
      "    ``'-.'``         dash-dot line style\n",
      "    ``':'``          dotted line style\n",
      "    =============    ===============================\n",
      "    \n",
      "    Example format strings::\n",
      "    \n",
      "        'b'    # blue markers with default shape\n",
      "        'or'   # red circles\n",
      "        '-g'   # green solid line\n",
      "        '--'   # dashed line with default color\n",
      "        '^k:'  # black triangle_up markers connected by a dotted line\n",
      "    \n",
      "    **Colors**\n",
      "    \n",
      "    The supported color abbreviations are the single letter codes\n",
      "    \n",
      "    =============    ===============================\n",
      "    character        color\n",
      "    =============    ===============================\n",
      "    ``'b'``          blue\n",
      "    ``'g'``          green\n",
      "    ``'r'``          red\n",
      "    ``'c'``          cyan\n",
      "    ``'m'``          magenta\n",
      "    ``'y'``          yellow\n",
      "    ``'k'``          black\n",
      "    ``'w'``          white\n",
      "    =============    ===============================\n",
      "    \n",
      "    and the ``'CN'`` colors that index into the default property cycle.\n",
      "    \n",
      "    If the color is the only part of the format string, you can\n",
      "    additionally use any  `matplotlib.colors` spec, e.g. full names\n",
      "    (``'green'``) or hex strings (``'#008000'``).\n",
      "\n"
     ]
    }
   ],
   "source": [
    "import matplotlib.pyplot as plt\n",
    "import matplotlib\n",
    "\n",
    "help(plt.plot)"
   ]
  },
  {
   "cell_type": "markdown",
   "metadata": {
    "slideshow": {
     "slide_type": "subslide"
    }
   },
   "source": [
    "# <center> General matplotlib code structure </center>"
   ]
  },
  {
   "cell_type": "code",
   "execution_count": null,
   "metadata": {
    "slideshow": {
     "slide_type": "subslide"
    }
   },
   "outputs": [],
   "source": [
    "# import matplotlib\n",
    "import matplotlib.pyplot as plt\n",
    "import matplotlib\n",
    "\n",
    "# define your canvas\n",
    "plt.figure(figsize=(8,6))\n",
    "\n",
    "# draw on the figure, define the properties of the line or marker\n",
    "plt.plot(x1,y1,'bo',markersize=12)\n",
    "plt.plot(x2,y2,'--')\n",
    "\n",
    "# modify the properties of the figure\n",
    "# axis labels, title, x and y limits, etc.\n",
    "plt.xlim([x_low,x_high])\n",
    "plt.ylim([y_low,y_high])\n",
    "plt.xlabel('the name of quantity x')\n",
    "plt.ylabel('the name of quantity y')\n",
    "plt.title('plot title')\n",
    "\n",
    "# show the figure in the notebook or save it as a file\n",
    "plt.show()\n",
    "plt.savefig('figure.jpg',dpi=150)"
   ]
  },
  {
   "cell_type": "code",
   "execution_count": 8,
   "metadata": {
    "slideshow": {
     "slide_type": "subslide"
    }
   },
   "outputs": [
    {
     "data": {
      "image/png": "[encoded data removed]",
      "text/plain": [
       "<Figure size 576x432 with 1 Axes>"
      ]
     },
     "metadata": {
      "needs_background": "light"
     },
     "output_type": "display_data"
    }
   ],
   "source": [
    "plt.figure(figsize=(8,6))\n",
    "plt.plot(nr_docs_in_bins)\n",
    "plt.show()"
   ]
  },
  {
   "cell_type": "markdown",
   "metadata": {
    "slideshow": {
     "slide_type": "subslide"
    }
   },
   "source": [
    "## Exercise 3\n",
    "### How would you improve this plot?"
   ]
  },
  {
   "cell_type": "code",
   "execution_count": null,
   "metadata": {
    "slideshow": {
     "slide_type": "subslide"
    }
   },
   "outputs": [],
   "source": [
    "# x should not be the index of an array but the number of words\n",
    "plt.figure(figsize=(8,6))\n",
    "plt.plot(bin_edges,nr_docs_in_bins)\n",
    "plt.show()"
   ]
  },
  {
   "cell_type": "code",
   "execution_count": null,
   "metadata": {
    "slideshow": {
     "slide_type": "subslide"
    }
   },
   "outputs": [],
   "source": [
    "plt.figure(figsize=(8,6))\n",
    "bin_center = (bin_edges[1:] + bin_edges[:-1])/2.0\n",
    "plt.plot(bin_center,nr_docs_in_bins)\n",
    "plt.show()"
   ]
  },
  {
   "cell_type": "code",
   "execution_count": null,
   "metadata": {
    "slideshow": {
     "slide_type": "subslide"
    }
   },
   "outputs": [],
   "source": [
    "# add x and y labels, and a title\n",
    "plt.figure(figsize=(8,6))\n",
    "bin_center = (bin_edges[1:] + bin_edges[:-1])/2e0\n",
    "plt.plot(bin_center,nr_docs_in_bins)\n",
    "plt.xlabel('nr. of words in doc')\n",
    "plt.ylabel('nr. of docs')\n",
    "plt.title('histogram')\n",
    "plt.show()"
   ]
  },
  {
   "cell_type": "code",
   "execution_count": null,
   "metadata": {
    "slideshow": {
     "slide_type": "subslide"
    }
   },
   "outputs": [],
   "source": [
    "# increase font size\n",
    "matplotlib.rcParams.update({'font.size': 16})\n",
    "\n",
    "plt.figure(figsize=(8,6))\n",
    "bin_center = (bin_edges[1:] + bin_edges[:-1])/2e0\n",
    "plt.plot(bin_center,nr_docs_in_bins)\n",
    "plt.xlabel('nr. of words in doc')\n",
    "plt.ylabel('nr. of docs')\n",
    "plt.title('histogram')\n",
    "plt.show()"
   ]
  },
  {
   "cell_type": "code",
   "execution_count": 15,
   "metadata": {
    "slideshow": {
     "slide_type": "subslide"
    }
   },
   "outputs": [
    {
     "data": {
      "image/png": "[encoded data removed]",
      "text/plain": [
       "<Figure size 576x432 with 1 Axes>"
      ]
     },
     "metadata": {
      "needs_background": "light"
     },
     "output_type": "display_data"
    }
   ],
   "source": [
    "# focus on the important area\n",
    "matplotlib.rcParams.update({'font.size': 16})\n",
    "\n",
    "plt.figure(figsize=(8,6))\n",
    "bin_center = (bin_edges[1:] + bin_edges[:-1])/2e0\n",
    "plt.plot(bin_center,nr_docs_in_bins)\n",
    "plt.xlim([0,2000])\n",
    "plt.xlabel('nr. of words in doc')\n",
    "plt.ylabel('nr. of docs')\n",
    "plt.title('histogram')\n",
    "plt.show()"
   ]
  }
 ],
 "metadata": {
  "celltoolbar": "Slideshow",
  "kernelspec": {
   "display_name": "Python 3",
   "language": "python",
   "name": "python3"
  },
  "language_info": {
   "codemirror_mode": {
    "name": "ipython",
    "version": 3
   },
   "file_extension": ".py",
   "mimetype": "text/x-python",
   "name": "python",
   "nbconvert_exporter": "python",
   "pygments_lexer": "ipython3",
   "version": "3.6.7"
  }
 },
 "nbformat": 4,
 "nbformat_minor": 2
}
