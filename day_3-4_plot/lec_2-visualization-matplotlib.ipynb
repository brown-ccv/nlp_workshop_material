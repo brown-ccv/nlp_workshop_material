{
 "cells": [
  {
   "cell_type": "markdown",
   "metadata": {
    "slideshow": {
     "slide_type": "slide"
    }
   },
   "source": [
    "## <center> Visualization with matplotlib 2</center>\n",
    "### By the end of this session, you will be able to\n",
    "#### - prepare basic plots using matplotlib (line, scatter, bar, histogram, heatmap)\n",
    "#### - identify and fix common errors that occur while plotting\n",
    "#### - design effective plots to deliver your intended message"
   ]
  },
  {
   "cell_type": "markdown",
   "metadata": {
    "slideshow": {
     "slide_type": "slide"
    }
   },
   "source": [
    "### <center> Where were we... </center>\n",
    "#### Question: How many documents contain 0-100, 100-200, 200-300, ... words?\n",
    "##### - generated data to answer the question\n",
    "##### - designed a test to check our algorithm and debugged it\n",
    "##### - prepared a simple line plot to visualize the results\n",
    "##### - improved the style of the plot with labels, font size, etc.\n"
   ]
  },
  {
   "cell_type": "markdown",
   "metadata": {
    "slideshow": {
     "slide_type": "slide"
    }
   },
   "source": [
    "# <center> Where we go from here during this lecture... </center>\n",
    "### - show the data as a scatter and bar plot\n",
    "### - do all of what we did quicker with less lines (plt.hist)\n",
    "### - improve your figure designs by using the Gestalt principles of perception \n"
   ]
  },
  {
   "cell_type": "code",
   "execution_count": null,
   "metadata": {
    "slideshow": {
     "slide_type": "slide"
    }
   },
   "outputs": [],
   "source": [
    "import numpy as np\n",
    "np.random.seed(0)\n",
    "\n",
    "# simulated word counts\n",
    "nr_words = np.random.lognormal(6, 1, 1000).astype(int)\n",
    "\n",
    "print('The shortest document has ', np.min(nr_words), ' words.')\n",
    "print('The longest document has ', np.max(nr_words), ' words.')"
   ]
  },
  {
   "cell_type": "code",
   "execution_count": null,
   "metadata": {
    "slideshow": {
     "slide_type": "subslide"
    }
   },
   "outputs": [],
   "source": [
    "bin_edges = np.arange(0,10000,100)\n",
    "\n",
    "nr_docs_in_bins = np.zeros(len(bin_edges)-1)\n",
    "\n",
    "for i in range(len(nr_docs_in_bins)):\n",
    "    nr_docs_in_bins[i] = sum([1 for nr_word in nr_words if (nr_word >= bin_edges[i])&(nr_word < bin_edges[i+1])])\n",
    "\n",
    "    # let's print the results\n",
    "    #print('There are',nr_docs_in_bins[i],'documents that contain',bin_edges[i],'to',bin_edges[i+1],'words.')\n",
    "\n",
    "# sanity check: were all the documents counted?\n",
    "if len(nr_words) != sum(nr_docs_in_bins):\n",
    "    print('not all documents were counted!')\n",
    "    print('there are',len(nr_words),'docs in the dataset.')\n",
    "    print(sum(nr_docs_in_bins),'docs were counted.')\n",
    "    raise ValueError"
   ]
  },
  {
   "cell_type": "markdown",
   "metadata": {
    "slideshow": {
     "slide_type": "slide"
    }
   },
   "source": [
    "# <center> Scatter plot using plt.scatter </center>"
   ]
  },
  {
   "cell_type": "code",
   "execution_count": null,
   "metadata": {
    "slideshow": {
     "slide_type": "subslide"
    }
   },
   "outputs": [],
   "source": [
    "import matplotlib.pyplot as plt\n",
    "import matplotlib\n",
    "\n",
    "help(plt.scatter)"
   ]
  },
  {
   "cell_type": "code",
   "execution_count": null,
   "metadata": {
    "slideshow": {
     "slide_type": "subslide"
    }
   },
   "outputs": [],
   "source": [
    "matplotlib.rcParams.update({'font.size': 16})\n",
    "\n",
    "plt.figure(figsize=(8,6))\n",
    "bin_center = (bin_edges[1:] + bin_edges[:-1])/2e0\n",
    "plt.scatter(bin_center,nr_docs_in_bins)\n",
    "plt.xlim([0,2000])\n",
    "plt.xlabel('nr. of words in doc')\n",
    "plt.ylabel('nr. of docs')\n",
    "plt.title('scatter plot')\n",
    "plt.show()"
   ]
  },
  {
   "cell_type": "code",
   "execution_count": null,
   "metadata": {
    "slideshow": {
     "slide_type": "subslide"
    }
   },
   "outputs": [],
   "source": [
    "\n",
    "matplotlib.rcParams.update({'font.size': 16})\n",
    "\n",
    "plt.figure(figsize=(8,6))\n",
    "bin_center = (bin_edges[1:] + bin_edges[:-1])/2e0\n",
    "plt.scatter(bin_center,nr_docs_in_bins,s = nr_docs_in_bins)\n",
    "plt.xlim([0,2000])\n",
    "plt.xlabel('nr. of words in doc')\n",
    "plt.ylabel('nr. of docs')\n",
    "plt.title('scatter plot')\n",
    "plt.show()"
   ]
  },
  {
   "cell_type": "markdown",
   "metadata": {
    "slideshow": {
     "slide_type": "slide"
    }
   },
   "source": [
    "# <center> Bar plot using plt.bar </center>"
   ]
  },
  {
   "cell_type": "code",
   "execution_count": null,
   "metadata": {
    "scrolled": true,
    "slideshow": {
     "slide_type": "subslide"
    }
   },
   "outputs": [],
   "source": [
    "help(plt.bar)"
   ]
  },
  {
   "cell_type": "markdown",
   "metadata": {
    "slideshow": {
     "slide_type": "subslide"
    }
   },
   "source": [
    "# <center> Exercise 1</center>\n",
    "## How to visualize the results with plt.bar?\n",
    "## Write the syntax based on the help."
   ]
  },
  {
   "cell_type": "code",
   "execution_count": null,
   "metadata": {
    "slideshow": {
     "slide_type": "subslide"
    }
   },
   "outputs": [],
   "source": [
    "# add your code here\n"
   ]
  },
  {
   "cell_type": "markdown",
   "metadata": {
    "slideshow": {
     "slide_type": "slide"
    }
   },
   "source": [
    "### <center> plt.hist</center>\n",
    "#### We can generate the bar plot without counting nr_docs_in_bins\n",
    "___\n",
    "```python\n",
    "bin_edges = np.arange(0,10000,100)\n",
    "\n",
    "nr_docs_in_bins = np.zeros(len(bin_edges)-1)\n",
    "\n",
    "for i in range(len(nr_docs_in_bins)):\n",
    "    nr_docs_in_bins[i] = sum([1 for nr_word in nr_words if (nr_word >= bin_edges[i])&(nr_word < bin_edges[i+1])])\n",
    "\n",
    "```\n",
    "___\n",
    "#### Why did we go through all the trouble with the code and the plt.bar plot?"
   ]
  },
  {
   "cell_type": "markdown",
   "metadata": {
    "slideshow": {
     "slide_type": "subslide"
    }
   },
   "source": [
    "## Remember the suggestion? \n",
    "### *Only use a function if you understand it well enough to write it yourself given enough time.*\n",
    "## You understand plt.hist well enough to use it."
   ]
  },
  {
   "cell_type": "code",
   "execution_count": null,
   "metadata": {
    "slideshow": {
     "slide_type": "subslide"
    }
   },
   "outputs": [],
   "source": [
    "help(plt.hist)"
   ]
  },
  {
   "cell_type": "code",
   "execution_count": null,
   "metadata": {
    "slideshow": {
     "slide_type": "subslide"
    }
   },
   "outputs": [],
   "source": [
    "bin_edges = np.arange(0,10000,100)\n",
    "\n",
    "plt.figure(figsize=(8,6))\n",
    "plt.hist(nr_words,bin_edges) # nr_docs_in_bins is calculated by plt.hist\n",
    "plt.xlim([0,2000])\n",
    "plt.xlabel('nr. of words in doc')\n",
    "plt.ylabel('nr. of docs')\n",
    "plt.title('histogram')\n",
    "plt.show()"
   ]
  },
  {
   "cell_type": "markdown",
   "metadata": {
    "slideshow": {
     "slide_type": "slide"
    }
   },
   "source": [
    "# <center> Gestalt principles of perception </center>\n",
    "\n",
    "https://courses.lumenlearning.com/wsu-sandbox/chapter/gestalt-principles-of-perception/"
   ]
  },
  {
   "cell_type": "markdown",
   "metadata": {
    "slideshow": {
     "slide_type": "subslide"
    }
   },
   "source": [
    "### <center> When you prepare a figure for an audience...</center>\n",
    "#### Know what message you want to convey with the figure\n",
    "##### E.g., I want the audience to notice a trend, or I want the audience to take a closer look at one of the lines, or an outlier point\n",
    "#### Use the Gestalt principles of perception to your adventage\n",
    "##### Highlight what you want the audience to see\n",
    "##### Use colors, line width, marker size to show your intended message"
   ]
  },
  {
   "cell_type": "code",
   "execution_count": null,
   "metadata": {
    "slideshow": {
     "slide_type": "subslide"
    }
   },
   "outputs": [],
   "source": [
    "\n",
    "plt.figure(figsize=(8,6))\n",
    "N, bins, patches = plt.hist(nr_words,bin_edges,color='0.8',edgecolor='k') # nr_docs_in_bins is calculated by plt.hist\n",
    "patches[1].set_facecolor('r')\n",
    "plt.xlim([0,2000])\n",
    "plt.xlabel('nr. of words in doc')\n",
    "plt.ylabel('nr. of docs')\n",
    "plt.title('Most commonly, documents contain 100-200 words.',color='r')\n",
    "plt.show()"
   ]
  }
 ],
 "metadata": {
  "celltoolbar": "Slideshow",
  "kernelspec": {
   "display_name": "Python 3",
   "language": "python",
   "name": "python3"
  },
  "language_info": {
   "codemirror_mode": {
    "name": "ipython",
    "version": 3
   },
   "file_extension": ".py",
   "mimetype": "text/x-python",
   "name": "python",
   "nbconvert_exporter": "python",
   "pygments_lexer": "ipython3",
   "version": "3.6.7"
  }
 },
 "nbformat": 4,
 "nbformat_minor": 2
}
