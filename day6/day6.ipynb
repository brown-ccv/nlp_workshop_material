{
 "cells": [
  {
   "cell_type": "markdown",
   "metadata": {
    "slideshow": {
     "slide_type": "slide"
    }
   },
   "source": [
    "## <center>What we learnt so far... </center>\n",
    "##### - Basic python and packages\n",
    "##### - ALWAYS check the help of a function you haven't used before\n",
    "##### - ALWAYS test your code and debug\n",
    "##### - NLP - preprocessing, lemmatization, stemming\n",
    "##### - NLP - bag of words, n-grams, TFIDF"
   ]
  },
  {
   "cell_type": "markdown",
   "metadata": {
    "slideshow": {
     "slide_type": "slide"
    }
   },
   "source": [
    "### <center>Intro to Machine Learning </center>\n",
    "#### By the end of the day, you will be able to\n",
    "##### - decide which problems can be solved by machine learning and why\n",
    "##### - compare regression, classification, and clustering problems\n",
    "##### - describe the bias-variance tradeoff in supervised problems\n",
    "##### - design a ML pipeline "
   ]
  },
  {
   "cell_type": "markdown",
   "metadata": {
    "slideshow": {
     "slide_type": "subslide"
    }
   },
   "source": [
    "# <center>If you want to learn more </center>\n",
    "## <center>https://www.coursera.org/learn/machine-learning</center>"
   ]
  },
  {
   "cell_type": "markdown",
   "metadata": {
    "slideshow": {
     "slide_type": "slide"
    }
   },
   "source": [
    "## <center>Machine Learning</center>\n",
    "#### You have data to work with (documents, images, tabular data, etc.)\n",
    "#### You have a repetitive (and simple?) problem you want to automatize.\n",
    "#### You can express the data as 2D numerical values (X)  \n",
    "#### You might or might not have a variable of interest (y, aka. target variable, label)"
   ]
  },
  {
   "cell_type": "markdown",
   "metadata": {
    "slideshow": {
     "slide_type": "subslide"
    }
   },
   "source": [
    "| X|feature_1|feature_2|...|feature_j|...|feature_m|<font color='red'>y</font>|\n",
    "|-|:-:|:-:|:-:|:-:|:-:|:-:|:-:|\n",
    "|__data_point_1__|x_11|x_12|...|x_1j|...|x_1m|__<font color='red'>y_1</font>__|\n",
    "|__data_point_2__|x_21|x_22|...|x_2j|...|x_2m|__<font color='red'>y_2</font>__|\n",
    "|__...__|...|...|...|...|...|...|__<font color='red'>...</font>__|\n",
    "|__data_point_i__|x_i1|x_i2|...|x_ij|...|x_im|__<font color='red'>y_i</font>__|\n",
    "|__...__|...|...|...|...|...|...|__<font color='red'>...</font>__|\n",
    "|__data_point_n__|x_n1|x_n2|...|x_nj|...|x_nm|__<font color='red'>y_n</font>__|"
   ]
  },
  {
   "cell_type": "markdown",
   "metadata": {
    "slideshow": {
     "slide_type": "subslide"
    }
   },
   "source": [
    "### Supervised ML: you have a target variable and you want to predict that for new, previously unseen data points\n",
    "##### Classification: y has a few discreet values (e.g., letter grades - A, B, C, NC; or categories like cat or dog)\n",
    "\n",
    "<center><img src=\"class.jpg\" width=\"500\"></center>"
   ]
  },
  {
   "cell_type": "markdown",
   "metadata": {
    "slideshow": {
     "slide_type": "subslide"
    }
   },
   "source": [
    "### Supervised ML: you have a target variable and you want to predict that for new, previously unseen data points\n",
    "##### Regression: y is a continuous variable (e.g., price of house, number grades between 0-100)\n",
    "\n",
    "<center><img src=\"reg.jpg\" width=\"500\"></center>"
   ]
  },
  {
   "cell_type": "markdown",
   "metadata": {
    "slideshow": {
     "slide_type": "subslide"
    }
   },
   "source": [
    "### Unsupervised ML: no target variable, you want to find structure in your data\n",
    "##### Clustering: you want identify groups similar data points\n",
    "\n",
    "<center><img src=\"cluster.jpg\" width=\"500\"></center>"
   ]
  },
  {
   "cell_type": "markdown",
   "metadata": {
    "slideshow": {
     "slide_type": "slide"
    }
   },
   "source": [
    "### <center>Exercise 1 </center>\n",
    "#### Regression, classification, or clustering?\n",
    "\n",
    "##### 1. Predict which emails are spam\n",
    "##### 2. Predict tomorrow's weather"
   ]
  },
  {
   "cell_type": "markdown",
   "metadata": {
    "slideshow": {
     "slide_type": "subslide"
    }
   },
   "source": [
    "##### 3. Recognize faces on images\n",
    "##### 4. Identify the group of customers with the most growth potential\n",
    "##### 5. Predict the stocks market based on news articles"
   ]
  },
  {
   "cell_type": "markdown",
   "metadata": {
    "slideshow": {
     "slide_type": "slide"
    }
   },
   "source": [
    "## <center>What does a supervised ML algorithm do?</center>\n",
    "\n",
    "#### Use the training data (X and y) to develop a <font color='red'>model</font> which can <font color='red'>accurately</font> predict the target variable (y_new') for previously unseen data (X_new)"
   ]
  },
  {
   "cell_type": "markdown",
   "metadata": {
    "slideshow": {
     "slide_type": "subslide"
    }
   },
   "source": [
    "## <center><font color='red'>ONE type of regression model: </font>Linear regression</center>\n",
    "\n",
    "### <center>$y_i' = \\beta_0 + x_{i1} \\beta_1 + x_{i2} \\beta_2 + ...$</center>\n",
    "### where $y_i'$ is the prediction of the linear regression model and $\\beta$ are parameters.\n",
    "### $\\beta$ is determined such that the difference between $y$ and $y'$ is minimized."
   ]
  },
  {
   "cell_type": "markdown",
   "metadata": {
    "slideshow": {
     "slide_type": "subslide"
    }
   },
   "source": [
    "### <center><font color='red'>ONE way to measure regression accuracy: </font>Mean Squared Error (MSE)</center>\n",
    "##### <center>$MSE(y,y') = \\frac{1}{n}\\sum_{i=1}^{n}(y_i-y_i')^2$</center>\n",
    "\n",
    "<center><img src=\"polifit_1.jpg\" width=\"450\"></center>\n",
    "\n",
    "##### <center>$y' = -2.3x$</center>\n"
   ]
  },
  {
   "cell_type": "markdown",
   "metadata": {
    "slideshow": {
     "slide_type": "subslide"
    }
   },
   "source": [
    "## <center><font color='red'>ONE type of classification model: </font>Logistic regression</center>\n",
    "\n",
    "## <center>$y_i' = \\frac{1}{1 + e^{-(\\beta_0 + x_{i1} \\beta_1 + x_{i2} \\beta_2 + ...)}}$</center>\n",
    "### where $y_i'$ is the probability that the point belongs to class 1, and $\\beta$ are parameters.\n",
    "### $\\beta$ is determined such that the difference between $y$ and $y'$ is minimized."
   ]
  },
  {
   "cell_type": "code",
   "execution_count": 4,
   "metadata": {
    "slideshow": {
     "slide_type": "subslide"
    }
   },
   "outputs": [
    {
     "name": "stdout",
     "output_type": "stream",
     "text": [
      "22003.639649915618\n",
      "4.5444961422207824e-05\n"
     ]
    }
   ],
   "source": [
    "e = 2.718 # Euler's constant\n",
    "exp = -10\n",
    "\n",
    "print(e**(-exp))\n",
    "print(1/(1+e**(-exp)))"
   ]
  },
  {
   "cell_type": "markdown",
   "metadata": {
    "slideshow": {
     "slide_type": "slide"
    }
   },
   "source": [
    "## <center>Exercise 2 </center>\n",
    "\n",
    "#### e = 2.718\n",
    "#### y_pred = 1/(1+e**(-exp))\n",
    "\n",
    "#### Prepare a y_pred function which takes exp as an input and return y_pred.\n",
    "#### Calculate y_pred for the following values:\n",
    "#### exp = -10, -8, -6, -4, -2, 0, 2, 4, 6, 8, 10\n"
   ]
  },
  {
   "cell_type": "markdown",
   "metadata": {
    "slideshow": {
     "slide_type": "subslide"
    }
   },
   "source": [
    "### <center><font color='red'>ONE way to measure classification accuracy: </font>accuracy  metric</center>\n",
    "<table>\n",
    "    <tr>\n",
    "        <td colspan=\"2\" rowspan=\"2\"></td>\n",
    "        <td colspan=\"2\">Predicted class</td>\t\t\t\n",
    "    </tr>\n",
    "    <tr>\n",
    "        <td>Predicted Negative (0)</td>\n",
    "        <td>Predicted Positive (1)</td>\n",
    "    </tr>\n",
    "    <tr>\n",
    "        <td rowspan=\"2\">Actual class</td>\n",
    "        <td>Condition Negative (0)</td>\n",
    "        <td><b>True Negative (TN)</b></td>\n",
    "        <td><b>False Positive (FP)</b></td>\n",
    "    </tr>\n",
    "    <tr>\n",
    "        <td>Condition Positive (1)</td>\n",
    "        <td><b>False Negative (FN)</b></td>\n",
    "        <td><b>True Positive (TP)</b></td>\n",
    "    </tr>\n",
    "</table>\n",
    "\n",
    "###  <center>accuracy = (TN + TP) / (TN+TP+FN+FP) </center>"
   ]
  },
  {
   "cell_type": "markdown",
   "metadata": {
    "slideshow": {
     "slide_type": "subslide"
    }
   },
   "source": [
    "#### ML models have two types of parameters\n",
    "##### hyperparameter:\n",
    "> ###### - specified manually by the user, not estimated from data\n",
    "> ###### - tuned by the user to find the most useful model"
   ]
  },
  {
   "cell_type": "markdown",
   "metadata": {
    "slideshow": {
     "slide_type": "subslide"
    }
   },
   "source": [
    "##### parameter:\n",
    "> ###### - they are learnt from the data to minimize the error between predicted and true labels\n",
    "> ###### - not determined by the user"
   ]
  },
  {
   "cell_type": "markdown",
   "metadata": {
    "slideshow": {
     "slide_type": "slide"
    }
   },
   "source": [
    "## <center>An example</center>\n",
    "\n",
    "### <center>Fit a polynomial to these points using linear regression!</center>\n",
    "\n",
    "<center><img src=\"polifit.jpg\" width=\"500\"></center>\n",
    "\n"
   ]
  },
  {
   "cell_type": "markdown",
   "metadata": {
    "slideshow": {
     "slide_type": "subslide"
    }
   },
   "source": [
    "### The linear regression model:\n",
    "\n",
    "### feature_1 = $x$, feature_2 = $x^2$, ..., feature_j = $x^j$, ...\n",
    "\n",
    "### <center> $y' = \\sum_{j=1}^{d} \\beta_j $ feature_j $ = \\sum_{j=1}^{d} \\beta_j x^j$, </center>\n",
    "### where $d$ is the highest degree of the polynomial. E.g., if d = 3, $y' = \\beta_1 x + \\beta_2 x^2 + \\beta_3 x^3$."
   ]
  },
  {
   "cell_type": "markdown",
   "metadata": {
    "slideshow": {
     "slide_type": "subslide"
    }
   },
   "source": [
    "### The max degree of the polynomial ($d$) is a hyperparameter.\n",
    ">#### You decide what the value should be and you can change it.\n",
    "\n",
    "### The coefficients of the polynomial are parameters.\n",
    "> #### The ML algorithm calculates $\\beta_1, \\beta_2, \\beta_3, ...$ for you to minimize the error on the training data."
   ]
  },
  {
   "cell_type": "markdown",
   "metadata": {
    "slideshow": {
     "slide_type": "subslide"
    }
   },
   "source": [
    "### <center> First order polynomial</center>\n",
    "<center><img src=\"polifit_1.jpg\" width=\"500\"></center>\n",
    "\n",
    "#### <center>$y' = -2.3x$</center>\n"
   ]
  },
  {
   "cell_type": "markdown",
   "metadata": {
    "slideshow": {
     "slide_type": "subslide"
    }
   },
   "source": [
    "### <center> Fifth order polynomial</center>\n",
    "\n",
    "<center><img src=\"polifit_5.jpg\" width=\"500\"></center>\n",
    "\n",
    "#### <center>$y' = -2.38  x + 5.45  x^2 - 44.7  x^3 + 75.33  x^4 - 34.87  x^5$</center>\n"
   ]
  },
  {
   "cell_type": "markdown",
   "metadata": {
    "slideshow": {
     "slide_type": "subslide"
    }
   },
   "source": [
    "### <center> 15th order polynomial</center>\n",
    "\n",
    "<center><img src=\"polifit_15.jpg\" width=\"500\"></center>\n",
    "\n",
    "#### <center> $y' = 37.18  x - 1920.98  x^2 + 43413.38  x^3 - 569919.88  x^4 + 4895023.25  x^5 - 29367547.19  x^6 + 127247890.38  x^7 - 404130483.77  x^8 + 943928768.95  x^9 - 1612574098.44  x^{10} + 1984508923.6  x^{11} - 1708405945.73  x^{12} + 974446430.21  x^{13}-330357881.78  x^{14}+50337433.06  x^{15} $</center>"
   ]
  },
  {
   "cell_type": "markdown",
   "metadata": {
    "slideshow": {
     "slide_type": "slide"
    }
   },
   "source": [
    "## <center>Exercise 3</center>\n",
    "### The figure below shows the MSE of the training data as a function of the polynomial degree:\n",
    "\n",
    "<center><img src=\"MSE_train.jpg\" width=\"500\"></center>"
   ]
  },
  {
   "cell_type": "markdown",
   "metadata": {
    "slideshow": {
     "slide_type": "subslide"
    }
   },
   "source": [
    "### Let's add a couple of new points to the plot!\n",
    "<center><img src=\"polifit2.jpg\" width=\"500\"></center>\n"
   ]
  },
  {
   "cell_type": "markdown",
   "metadata": {
    "slideshow": {
     "slide_type": "subslide"
    }
   },
   "source": [
    "### Here are a couple of fitted polynomials (y').\n",
    "\n",
    "<center><img src=\"polifit_fits.jpg\" width=\"500\"></center>\n",
    "\n",
    "### <center>What is the MSE of new data points as a function of $d$?</center>\n",
    "### <center>$MSE(y,y') = \\frac{1}{n}\\sum_{i=1}^{n}(y_i-y_i')^2$</center>\n",
    "### <center>Make a sketch and explain your prediction!</center>"
   ]
  },
  {
   "cell_type": "markdown",
   "metadata": {
    "slideshow": {
     "slide_type": "slide"
    }
   },
   "source": [
    "### <center> The bias-variance tradeoff </center>\n",
    "\n",
    "#### High Bias: If a model is too simple, it performs poorly on both training data and on new data points.\n",
    "#### High Variance: If a model is too complex, it performs accurately on the training data but it does not generalize to new data points\n",
    "\n",
    "### The goal of the ML pipeline is to find the optimum between high bias and high variance.\n"
   ]
  },
  {
   "cell_type": "markdown",
   "metadata": {
    "slideshow": {
     "slide_type": "slide"
    }
   },
   "source": [
    "## <center>A typical ML pipeline</center>\n",
    "\n",
    "### Goal 1: Find balance between bias and variance! Develop a model which generalizes to new data points.\n",
    "\n",
    "### Goal 2: Report the model performance one should expect on previously unseen data!"
   ]
  },
  {
   "cell_type": "markdown",
   "metadata": {
    "slideshow": {
     "slide_type": "subslide"
    }
   },
   "source": [
    "#### Divide dataset into three (usually random) parts (60% train, 20% CV, 20% test)\n",
    "#### Decide what hyperparameter values should be tried\n",
    "#### Decide how you will measure the performance (more on this later)\n",
    "#### Loop through all combinations of hyperparameters\n",
    "> ##### Use training data to find model parameters that minimize training error\n",
    "##### Evaluate model on the CV data and save both training and CV error"
   ]
  },
  {
   "cell_type": "markdown",
   "metadata": {
    "slideshow": {
     "slide_type": "subslide"
    }
   },
   "source": [
    "#### Plot the error of the training and CV sets as a function of the hyperparameters\n",
    "#### Select the hyperparameters that minimize the error on the CV set\n",
    "#### Apply this model to the test set and report the error\n",
    "> ##### This is the expected error on previously unseen data."
   ]
  },
  {
   "cell_type": "code",
   "execution_count": 10,
   "metadata": {
    "slideshow": {
     "slide_type": "subslide"
    }
   },
   "outputs": [],
   "source": [
    "# Linear regression example\n",
    "\n",
    "import numpy as np\n",
    "import matplotlib.pyplot as plt\n",
    "from sklearn.pipeline import Pipeline\n",
    "from sklearn.preprocessing import PolynomialFeatures\n",
    "from sklearn.linear_model import LinearRegression\n",
    "from sklearn.model_selection import train_test_split\n",
    "from sklearn.model_selection import cross_val_score\n",
    "from sklearn.metrics import mean_squared_error\n",
    "from decimal import Decimal\n",
    "import matplotlib\n",
    "matplotlib.rcParams.update({'font.size': 16})\n",
    "\n",
    "# create data\n",
    "def true_fun(X):\n",
    "    return np.cos(1.5 * np.pi * X)\n",
    "np.random.seed(10)\n",
    "n_samples = 100\n",
    "\n",
    "X = np.sort(np.random.rand(n_samples))\n",
    "y = true_fun(X) + np.random.randn(n_samples) * 0.1"
   ]
  },
  {
   "cell_type": "code",
   "execution_count": 11,
   "metadata": {
    "slideshow": {
     "slide_type": "subslide"
    }
   },
   "outputs": [
    {
     "name": "stdout",
     "output_type": "stream",
     "text": [
      "(60,)\n",
      "(20,)\n",
      "(20,)\n"
     ]
    }
   ],
   "source": [
    "# split data into three parts (60-20-20%)\n",
    "X_rest, X_test, y_rest, y_test = train_test_split(X,y,test_size=0.2,train_size=0.8)\n",
    "X_train, X_CV, y_train, y_CV = train_test_split(X_rest,y_rest,test_size = 0.25,train_size =0.75)\n",
    "\n",
    "# check the split\n",
    "print(np.shape(X_train))\n",
    "print(np.shape(X_CV))\n",
    "print(np.shape(X_test))\n",
    "# (120, 2)\n",
    "# (40, 2)\n",
    "# (40, 2)\n",
    "\n",
    "# hyperparameter values to try\n",
    "degrees = np.arange(1,16,1)\n",
    "\n",
    "# arrays for training and test scores\n",
    "train_score = np.zeros([len(degrees)])\n",
    "CV_score = np.zeros([len(degrees)])"
   ]
  },
  {
   "cell_type": "code",
   "execution_count": 12,
   "metadata": {
    "slideshow": {
     "slide_type": "subslide"
    }
   },
   "outputs": [],
   "source": [
    "# loop through the hyperparameters\n",
    "for i in range(len(degrees)):\n",
    "    # this is a feature transformer\n",
    "    polynomial_features = PolynomialFeatures(degree=degrees[i],include_bias=False)\n",
    "    \n",
    "    # initialize the regression model\n",
    "    LR = LinearRegression()\n",
    "    # fit the training data\n",
    "    LR.fit(polynomial_features.fit_transform(X_train.reshape(-1, 1)),y_train)\n",
    "    # predict the training data\n",
    "    y_p_train = LR.predict(polynomial_features.fit_transform(X_train.reshape(-1, 1)))\n",
    "    # predict the test data\n",
    "    y_p_CV = LR.predict(polynomial_features.fit_transform(X_CV.reshape(-1, 1)))\n",
    "\n",
    "    # measure regressor performance with MSE\n",
    "    train_score[i] = mean_squared_error(y_train,y_p_train)\n",
    "    CV_score[i] = mean_squared_error(y_CV,y_p_CV)   "
   ]
  },
  {
   "cell_type": "code",
   "execution_count": 13,
   "metadata": {
    "slideshow": {
     "slide_type": "subslide"
    }
   },
   "outputs": [
    {
     "data": {
      "image/png": "[encoded data removed]",
      "text/plain": [
       "<Figure size 576x432 with 1 Axes>"
      ]
     },
     "metadata": {
      "needs_background": "light"
     },
     "output_type": "display_data"
    }
   ],
   "source": [
    "# plot the train and CV scores\n",
    "plt.figure(figsize=(8,6))\n",
    "\n",
    "plt.plot(degrees,train_score,label='train MSE')\n",
    "plt.plot(degrees,CV_score,label='CV MSE')\n",
    "\n",
    "plt.xticks(degrees)\n",
    "plt.xlabel('degree of polinomial')\n",
    "plt.ylabel('MSE')\n",
    "plt.ylim([0,0.5])\n",
    "plt.legend()\n",
    "plt.tight_layout()\n",
    "\n",
    "plt.savefig('ml_pipeline_LR.jpg',dpi=150)\n",
    "plt.show()"
   ]
  },
  {
   "cell_type": "markdown",
   "metadata": {
    "slideshow": {
     "slide_type": "subslide"
    }
   },
   "source": [
    "<center><img src=\"ml_pipeline_LR.jpg\" width=\"500\"></center>\n"
   ]
  },
  {
   "cell_type": "code",
   "execution_count": 14,
   "metadata": {
    "slideshow": {
     "slide_type": "subslide"
    }
   },
   "outputs": [
    {
     "name": "stdout",
     "output_type": "stream",
     "text": [
      "0.009532201439733719\n"
     ]
    }
   ],
   "source": [
    "# initialize the best classifier and report the test error\n",
    "LR = LinearRegression()\n",
    "polynomial_features = PolynomialFeatures(degree=5,include_bias=False)\n",
    "# fit the training data\n",
    "LR.fit(polynomial_features.fit_transform(X_train.reshape(-1, 1)),y_train)\n",
    "# predict the holdout\n",
    "y_pred = LR.predict(polynomial_features.fit_transform(X_test.reshape(-1, 1)))\n",
    "# report the accuracy score\n",
    "print(mean_squared_error(y_test,y_pred))\n",
    "# 0.0095"
   ]
  }
 ],
 "metadata": {
  "celltoolbar": "Slideshow",
  "kernelspec": {
   "display_name": "Python 3",
   "language": "python",
   "name": "python3"
  },
  "language_info": {
   "codemirror_mode": {
    "name": "ipython",
    "version": 3
   },
   "file_extension": ".py",
   "mimetype": "text/x-python",
   "name": "python",
   "nbconvert_exporter": "python",
   "pygments_lexer": "ipython3",
   "version": "3.6.7"
  }
 },
 "nbformat": 4,
 "nbformat_minor": 2
}
