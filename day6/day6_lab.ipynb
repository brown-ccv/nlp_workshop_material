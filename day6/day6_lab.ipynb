{
 "cells": [
  {
   "cell_type": "code",
   "execution_count": null,
   "metadata": {},
   "outputs": [],
   "source": [
    "#\n",
    "# day 6 lab\n",
    "#\n",
    "\n",
    "# step 1: load the 20 newsgroups dataset and other packages that you'll need (use code from yesterday)\n",
    "\n",
    "# step 2: use the code you developed yesterday to convert the corpus into a feature matrix\n",
    "\n",
    "# step 3: put together a ML pipeline using sklearn.linear_model.LogisticRegression\n",
    "# note: there is already a test in 20newsgroups so you only need to create train and CV sets\n",
    "# your hyperparameters are the four different preprocessing steps and C\n",
    "# check the LogisticRegression help to learn about C!\n",
    "# use accuracy as your evaluation metric (sklearn.metrics.accuracy_score)\n",
    "\n",
    "# step 3.1: split data into two parts (train and CV, 75% - 25%)\n",
    "\n",
    "# step 3.2: hyperparameter values to try\n",
    "\n",
    "# step 3.3: arrays for training and CV scores\n",
    "\n",
    "# step 3.4: loop through the hyperparameters\n",
    "\n",
    "# step 3.5: print the train and CV scores\n",
    "\n",
    "# step 3.6: initialize the best classifier and report the test error\n",
    "\n",
    "\n"
   ]
  }
 ],
 "metadata": {
  "kernelspec": {
   "display_name": "Python 3",
   "language": "python",
   "name": "python3"
  },
  "language_info": {
   "codemirror_mode": {
    "name": "ipython",
    "version": 3
   },
   "file_extension": ".py",
   "mimetype": "text/x-python",
   "name": "python",
   "nbconvert_exporter": "python",
   "pygments_lexer": "ipython3",
   "version": "3.6.7"
  }
 },
 "nbformat": 4,
 "nbformat_minor": 2
}
