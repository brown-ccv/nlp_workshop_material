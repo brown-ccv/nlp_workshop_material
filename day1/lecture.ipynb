{
 "cells": [
  {
   "cell_type": "markdown",
   "metadata": {
    "slideshow": {
     "slide_type": "slide"
    }
   },
   "source": [
    "# <center>Introduction to Programming</center>\n",
    "## <center>Variables and control flow</center>\n",
    "\n",
    "### <center>Day 1 of the NLP workshop</center>\n"
   ]
  },
  {
   "cell_type": "markdown",
   "metadata": {
    "slideshow": {
     "slide_type": "slide"
    }
   },
   "source": [
    "## <center>What is programming?</center>\n",
    "#### You type instructions for the computer to perform.\n",
    "#### The computer performs those instructions to the letter.\n",
    "#### **Testing**: you make sure the computer does what you want it to do\n",
    "#### **Debugging**: your instructions are inaccurate, so you fix them. :)"
   ]
  },
  {
   "cell_type": "markdown",
   "metadata": {
    "slideshow": {
     "slide_type": "slide"
    }
   },
   "source": [
    "## <center>What is programming good for?</center>\n",
    "### <center>AUTOMATION!</center>\n",
    "\n",
    "#### General tasks:\n",
    "#### Computer is explicitly programmed how to perform a task.\n",
    "- Automatically move/copy/rename a large number of files,\n",
    "- Perform any task with excel spreadsheets,\n",
    "- Automatically download files and text from websites."
   ]
  },
  {
   "cell_type": "markdown",
   "metadata": {
    "slideshow": {
     "slide_type": "subslide"
    }
   },
   "source": [
    "#### Machine learning tasks:\n",
    "#### The computer is given examples of the task already completed.\n",
    "#### It learns how to perform the task based on the examples.\n",
    "#### No need to tell it explicitly what to do.\n",
    "\n",
    "- Grade essays,\n",
    "- Extract dominant topics from a large corpus,\n",
    "- Search in a large corpus.\n",
    "\n",
    "##### Automatize virtually any boring and repetitive task you do on your computer!"
   ]
  },
  {
   "cell_type": "markdown",
   "metadata": {
    "slideshow": {
     "slide_type": "subslide"
    }
   },
   "source": [
    "### Limits of a computer\n",
    "- lacks creativity\n",
    "- no generalization, you need to develop separate program for each task\n",
    "- decision making and planing based on limited data is difficult (no intuition)\n",
    "- motor skills are surprisingly difficult for machines to learn"
   ]
  },
  {
   "cell_type": "markdown",
   "metadata": {
    "slideshow": {
     "slide_type": "subslide"
    }
   },
   "source": [
    "### Areas where a computer is better than humans\n",
    "- calculations\n",
    "- object recognition (with some limitations)\n",
    "- voice recognition and translation\n",
    "- games\n",
    "- ..."
   ]
  },
  {
   "cell_type": "markdown",
   "metadata": {
    "slideshow": {
     "slide_type": "slide"
    }
   },
   "source": [
    "## <center>Exercise 1</center>\n",
    "### Programming: general task or machine learning task?\n",
    "\n",
    "- detect spam emails\n",
    "- sort files into folders based on which months they were created\n",
    "- decide which student should be admitted to Brown\n",
    "- identify individuals on pictures\n",
    "- webscraping\n"
   ]
  },
  {
   "cell_type": "markdown",
   "metadata": {
    "slideshow": {
     "slide_type": "slide"
    }
   },
   "source": [
    "# <center> Python as a calculator </center>"
   ]
  },
  {
   "cell_type": "code",
   "execution_count": 46,
   "metadata": {},
   "outputs": [
    {
     "data": {
      "text/plain": [
       "10"
      ]
     },
     "execution_count": 46,
     "metadata": {},
     "output_type": "execute_result"
    }
   ],
   "source": [
    "3+7"
   ]
  },
  {
   "cell_type": "markdown",
   "metadata": {
    "slideshow": {
     "slide_type": "slide"
    }
   },
   "source": [
    "# <center> Variables </center>\n",
    "### Data is represented as numbers, strings, or boolean variables.\n",
    "### Numbers can be integers (whole numbers) or floats (numbers with decimal points).\n",
    "### Boolean variables can have only two values: True or False.\n",
    "### Strings are a sequence of characters within quotation marks.\n"
   ]
  },
  {
   "cell_type": "markdown",
   "metadata": {
    "slideshow": {
     "slide_type": "slide"
    }
   },
   "source": [
    "# <center> Numbers </center>"
   ]
  },
  {
   "cell_type": "code",
   "execution_count": 13,
   "metadata": {
    "slideshow": {
     "slide_type": "-"
    }
   },
   "outputs": [
    {
     "name": "stdout",
     "output_type": "stream",
     "text": [
      "<class 'int'>\n",
      "<class 'int'>\n",
      "<class 'float'>\n",
      "<class 'float'>\n"
     ]
    }
   ],
   "source": [
    "# variables store values so we can work with it later.\n",
    "# variables can be named arbitrarily\n",
    "a = 5\n",
    "b = 8\n",
    "c = 1.6\n",
    "d = 5.2\n",
    "\n",
    "# variable types:\n",
    "print(type(a))\n",
    "print(type(b))\n",
    "print(type(c))\n",
    "print(type(d))"
   ]
  },
  {
   "cell_type": "code",
   "execution_count": 52,
   "metadata": {
    "slideshow": {
     "slide_type": "subslide"
    }
   },
   "outputs": [
    {
     "name": "stdout",
     "output_type": "stream",
     "text": [
      "13\n",
      "8.0\n",
      "-2.8\n",
      "1\n"
     ]
    }
   ],
   "source": [
    "a = 5\n",
    "b = 8\n",
    "c = 1.6\n",
    "d = 5.2\n",
    "\n",
    "# first instruction: print the sum of two numbers\n",
    "print(a+b)\n",
    "# second instruction: print the product of two numbers\n",
    "print(a*c)\n",
    "# third instruction: create a new variable and equate it to the difference of two numbers\n",
    "e = d - b\n",
    "print(e)\n",
    "# fourth instruction: divide two numbers and store the value in a new variable\n",
    "f = b/a\n",
    "print(f) "
   ]
  },
  {
   "cell_type": "markdown",
   "metadata": {
    "slideshow": {
     "slide_type": "slide"
    }
   },
   "source": [
    "# <center> Boolean variables </center>"
   ]
  },
  {
   "cell_type": "code",
   "execution_count": 25,
   "metadata": {},
   "outputs": [
    {
     "name": "stdout",
     "output_type": "stream",
     "text": [
      "True\n",
      "False\n",
      "True\n"
     ]
    }
   ],
   "source": [
    "a = 5\n",
    "b = 8\n",
    "c = 1.6\n",
    "d = 5.0\n",
    "condition_1 = c < b\n",
    "condition_2 = a > b\n",
    "condition_3 = a == d\n",
    "print(condition_1)\n",
    "print(condition_2)\n",
    "print(condition_3)\n"
   ]
  },
  {
   "cell_type": "code",
   "execution_count": 53,
   "metadata": {
    "slideshow": {
     "slide_type": "subslide"
    }
   },
   "outputs": [
    {
     "name": "stdout",
     "output_type": "stream",
     "text": [
      "False\n",
      "True\n"
     ]
    }
   ],
   "source": [
    "a = 5\n",
    "b = 8\n",
    "c = 1.6\n",
    "d = 5.0\n",
    "# is b+c larger than a+d?\n",
    "giraffe = b+c > a+d\n",
    "# is c-a smaller than b-d?\n",
    "puppy = c-a < b-d\n",
    "\n",
    "print(giraffe)\n",
    "print(puppy)"
   ]
  },
  {
   "cell_type": "markdown",
   "metadata": {
    "slideshow": {
     "slide_type": "slide"
    }
   },
   "source": [
    "## <center>Exercise 2</center>"
   ]
  },
  {
   "cell_type": "code",
   "execution_count": 23,
   "metadata": {},
   "outputs": [],
   "source": [
    "a = 3\n",
    "b = 9\n",
    "c = 5.34\n",
    "# are a and b of the same type?\n",
    "\n",
    "# are a+c and b of the same type?\n",
    "\n",
    "# is a+b/c larger than 3?\n"
   ]
  },
  {
   "cell_type": "markdown",
   "metadata": {
    "slideshow": {
     "slide_type": "slide"
    }
   },
   "source": [
    "# <center> Strings </center>"
   ]
  },
  {
   "cell_type": "code",
   "execution_count": 54,
   "metadata": {},
   "outputs": [
    {
     "name": "stdout",
     "output_type": "stream",
     "text": [
      "24\n"
     ]
    }
   ],
   "source": [
    "my_first_string = 'This is my first string!'\n",
    "my_second_string = \"This's my second string!\"\n",
    "\n",
    "# beware of apostrophe in strings!\n",
    "\n",
    "# 'This's my first string!' - NOT VALID\n",
    "# \"This's my first string!\" - VALID\n",
    "\n",
    "print(len(my_first_string))"
   ]
  },
  {
   "cell_type": "markdown",
   "metadata": {
    "slideshow": {
     "slide_type": "slide"
    }
   },
   "source": [
    "## <center> String indexing </center>"
   ]
  },
  {
   "cell_type": "code",
   "execution_count": 55,
   "metadata": {},
   "outputs": [
    {
     "name": "stdout",
     "output_type": "stream",
     "text": [
      "A\n",
      "r\n",
      "s\n"
     ]
    }
   ],
   "source": [
    "my_name = 'Andras Zsom'\n",
    "# indexing one character\n",
    "print(my_name[0]) # A\n",
    "print(my_name[3]) # r\n",
    "print(my_name[-3]) # m"
   ]
  },
  {
   "cell_type": "code",
   "execution_count": 38,
   "metadata": {
    "slideshow": {
     "slide_type": "subslide"
    }
   },
   "outputs": [
    {
     "name": "stdout",
     "output_type": "stream",
     "text": [
      "dra\n",
      "as Zsom\n",
      "Andras Z\n"
     ]
    }
   ],
   "source": [
    "# indexing a range of characters\n",
    "print(my_name[2:5]) # dra\n",
    "print(my_name[4:]) # as Zsom\n",
    "print(my_name[:8]) # Andras Z"
   ]
  },
  {
   "cell_type": "code",
   "execution_count": 39,
   "metadata": {
    "slideshow": {
     "slide_type": "subslide"
    }
   },
   "outputs": [
    {
     "name": "stdout",
     "output_type": "stream",
     "text": [
      "Ada\n",
      "aZm\n",
      "Andras Zsom\n"
     ]
    }
   ],
   "source": [
    "# indexing a range of characters with a step\n",
    "print(my_name[:6:2]) # Ada\n",
    "print(my_name[4::3]) # aZm\n",
    "print(my_name[::])"
   ]
  },
  {
   "cell_type": "markdown",
   "metadata": {
    "slideshow": {
     "slide_type": "-"
    }
   },
   "source": [
    "#### <center> string[*starting index* : *stopping index (not included)* : *step size*] </center>\n"
   ]
  },
  {
   "cell_type": "markdown",
   "metadata": {
    "slideshow": {
     "slide_type": "slide"
    }
   },
   "source": [
    "## <center>Exercise 3</center>"
   ]
  },
  {
   "cell_type": "code",
   "execution_count": 57,
   "metadata": {},
   "outputs": [],
   "source": [
    "my_name = ... # insert your name here\n",
    "\n",
    "# print every second character in your name\n",
    "\n",
    "# print every third character in your name in reverse order\n",
    "\n",
    "# print the last four characters of your name\n",
    "\n",
    "# print the characters between the second and the sixth location\n"
   ]
  },
  {
   "cell_type": "markdown",
   "metadata": {
    "slideshow": {
     "slide_type": "slide"
    }
   },
   "source": [
    "## <center> Useful string operations </center>"
   ]
  },
  {
   "cell_type": "code",
   "execution_count": 57,
   "metadata": {},
   "outputs": [
    {
     "name": "stdout",
     "output_type": "stream",
     "text": [
      "AndrasZsom\n",
      "Andras_Zsom\n"
     ]
    }
   ],
   "source": [
    "# combine strings\n",
    "first_name = 'Andras'\n",
    "second_name = 'Zsom'\n",
    "full_name = first_name + second_name \n",
    "full_name_with_space = first_name + ' ' + second_name\n",
    "\n",
    "print(full_name)\n",
    "print(full_name_with_space)"
   ]
  },
  {
   "cell_type": "code",
   "execution_count": 60,
   "metadata": {
    "slideshow": {
     "slide_type": "subslide"
    }
   },
   "outputs": [
    {
     "name": "stdout",
     "output_type": "stream",
     "text": [
      "hahaha\n"
     ]
    }
   ],
   "source": [
    "# repeat strings\n",
    "\n",
    "laugh = 'ha'\n",
    "print(laugh*3)"
   ]
  },
  {
   "cell_type": "code",
   "execution_count": 69,
   "metadata": {
    "slideshow": {
     "slide_type": "subslide"
    }
   },
   "outputs": [
    {
     "name": "stdout",
     "output_type": "stream",
     "text": [
      "['Andras', 'Zsom']\n",
      "['Andras', 'Zsom']\n",
      "['Andra', ' Z', 'om']\n"
     ]
    }
   ],
   "source": [
    "# split strings\n",
    "\n",
    "# split on space\n",
    "print(full_name_with_space.split())\n",
    "print(full_name_with_space.split(' '))\n",
    "\n",
    "# split on another character\n",
    "print(full_name_with_space.split('s'))"
   ]
  },
  {
   "cell_type": "code",
   "execution_count": 58,
   "metadata": {
    "slideshow": {
     "slide_type": "subslide"
    }
   },
   "outputs": [
    {
     "name": "stdout",
     "output_type": "stream",
     "text": [
      "False\n"
     ]
    }
   ],
   "source": [
    "# check if characters are in string\n",
    "full_name = 'Andras Zsom'\n",
    "chars = 'zs'\n",
    "chars_in_full_name = chars in full_name\n",
    "print(chars_in_full_name)\n"
   ]
  },
  {
   "cell_type": "code",
   "execution_count": 78,
   "metadata": {},
   "outputs": [
    {
     "name": "stdout",
     "output_type": "stream",
     "text": [
      "5\n"
     ]
    }
   ],
   "source": [
    "# find - returns the first occurrence of a character\n",
    "full_name = 'Andras Zsom'\n",
    "print(full_name.find('s'))\n"
   ]
  },
  {
   "cell_type": "markdown",
   "metadata": {
    "slideshow": {
     "slide_type": "slide"
    }
   },
   "source": [
    "## <center>Exercise 4</center>"
   ]
  },
  {
   "cell_type": "code",
   "execution_count": 59,
   "metadata": {},
   "outputs": [
    {
     "name": "stdout",
     "output_type": "stream",
     "text": [
      "True\n"
     ]
    }
   ],
   "source": [
    "# How would you check if a string is a palindrome?\n",
    "string1 = 'racecar'\n",
    "string2 = 'exercise'\n"
   ]
  },
  {
   "cell_type": "markdown",
   "metadata": {
    "slideshow": {
     "slide_type": "slide"
    }
   },
   "source": [
    "# <center> Control flow </center>\n",
    "### Every code can be broken down to instructions like this:\n",
    "- **Instructions**: \"Do this; then do that.\"\n",
    "- **If statements**: \"If this condition is true, perform this action; otherwise, do that action.\"\n",
    "- **For loops**: \"Do this action that number of times.\"\n",
    "- **While loops**: \"Keep doing that until this condition is false.\"\n",
    "\n",
    "### Programming is like playing with lego. "
   ]
  },
  {
   "cell_type": "markdown",
   "metadata": {
    "slideshow": {
     "slide_type": "slide"
    }
   },
   "source": [
    "## <center> If statement </center>\n"
   ]
  },
  {
   "cell_type": "code",
   "execution_count": null,
   "metadata": {},
   "outputs": [],
   "source": [
    "if condition(s):\n",
    "    # do something\n",
    "    # you must indent\n",
    "else:\n",
    "    # do something else\n",
    "    # you must indent this as well\n",
    "    "
   ]
  },
  {
   "cell_type": "code",
   "execution_count": 64,
   "metadata": {},
   "outputs": [
    {
     "name": "stdout",
     "output_type": "stream",
     "text": [
      "can vote\n"
     ]
    }
   ],
   "source": [
    "# an example\n",
    "# indentation is necessary  in python!\n",
    "\n",
    "age = 18\n",
    "\n",
    "if 17 < age:\n",
    "    print(\"can vote\")\n",
    "else:\n",
    "    print(\"cannot vote\")"
   ]
  },
  {
   "cell_type": "code",
   "execution_count": 6,
   "metadata": {
    "slideshow": {
     "slide_type": "subslide"
    }
   },
   "outputs": [
    {
     "name": "stdout",
     "output_type": "stream",
     "text": [
      "cannot walk\n"
     ]
    }
   ],
   "source": [
    "# multiple conditions\n",
    "\n",
    "age = 19\n",
    "\n",
    "if (1 < age) and (age < 100):\n",
    "    print(\"can walk\")\n",
    "else:\n",
    "    print(\"cannot walk\")"
   ]
  },
  {
   "cell_type": "code",
   "execution_count": null,
   "metadata": {
    "slideshow": {
     "slide_type": "subslide"
    }
   },
   "outputs": [],
   "source": [
    "# a sequence of if/else conditions\n",
    "\n",
    "cents = 10\n",
    "\n",
    "if cents == 25:\n",
    "    print(\"washington\")\n",
    "elif cents == 10:\n",
    "    print(\"roosevelt\")\n",
    "elif cents == 5:\n",
    "    print(\"jefferson\")\n",
    "elif cents == 1:\n",
    "    print(\"lincoln\")\n",
    "else:\n",
    "    print(\"not US coin\")"
   ]
  },
  {
   "cell_type": "markdown",
   "metadata": {
    "slideshow": {
     "slide_type": "slide"
    }
   },
   "source": [
    "## <center>Exercise 5</center>"
   ]
  },
  {
   "cell_type": "code",
   "execution_count": null,
   "metadata": {},
   "outputs": [],
   "source": [
    "weather = 'rainy' #'sunny', 'cloudy', 'foggy'\n",
    "\n",
    "# Shall I take an umbrella or wear sun glasses?\n",
    "\n"
   ]
  },
  {
   "cell_type": "markdown",
   "metadata": {
    "slideshow": {
     "slide_type": "slide"
    }
   },
   "source": [
    "## <center>For loop</center>"
   ]
  },
  {
   "cell_type": "code",
   "execution_count": 10,
   "metadata": {
    "slideshow": {
     "slide_type": "subslide"
    }
   },
   "outputs": [
    {
     "name": "stdout",
     "output_type": "stream",
     "text": [
      "I\n",
      " \n",
      "l\n",
      "i\n",
      "k\n",
      "e\n",
      " \n",
      "d\n",
      "o\n",
      "g\n",
      "s\n",
      ".\n"
     ]
    }
   ],
   "source": [
    "# iterate over characters in a string\n",
    "\n",
    "my_string = 'I like dogs.'\n",
    "\n",
    "for char in my_string:\n",
    "    # you must indent here as well\n",
    "    print(char)"
   ]
  },
  {
   "cell_type": "code",
   "execution_count": 69,
   "metadata": {
    "slideshow": {
     "slide_type": "subslide"
    }
   },
   "outputs": [
    {
     "name": "stdout",
     "output_type": "stream",
     "text": [
      "I\n",
      "like\n",
      "dogs.\n"
     ]
    }
   ],
   "source": [
    "# iterate over words in a string (split by space)\n",
    "\n",
    "my_string = 'I like dogs.'\n",
    "\n",
    "for word in my_string.split():\n",
    "    print(word)\n",
    "    "
   ]
  },
  {
   "cell_type": "code",
   "execution_count": 9,
   "metadata": {},
   "outputs": [
    {
     "name": "stdout",
     "output_type": "stream",
     "text": [
      "0\n",
      "1\n",
      "2\n",
      "3\n",
      "4\n",
      "5\n",
      "6\n",
      "7\n",
      "8\n",
      "9\n",
      "10\n"
     ]
    }
   ],
   "source": [
    "# iterate for a given number of times and perform instructions\n",
    "\n",
    "for in range(11):\n",
    "    print(i)\n"
   ]
  },
  {
   "cell_type": "markdown",
   "metadata": {
    "slideshow": {
     "slide_type": "slide"
    }
   },
   "source": [
    "## <center>Exercise 6</center>"
   ]
  },
  {
   "cell_type": "code",
   "execution_count": 16,
   "metadata": {},
   "outputs": [],
   "source": [
    "string = 'I like dogs.'\n",
    "\n",
    "# let's combine a for loop with an if statement:\n",
    "# loop through the characters and print a character if it is a vowel.\n",
    "# remember the 'in' method  we covered before!\n"
   ]
  },
  {
   "cell_type": "markdown",
   "metadata": {
    "slideshow": {
     "slide_type": "slide"
    }
   },
   "source": [
    "## <center> While loop </center>\n"
   ]
  },
  {
   "cell_type": "code",
   "execution_count": null,
   "metadata": {},
   "outputs": [],
   "source": [
    "# we are not sure how many iterations we need so we use a condition\n",
    "# WARNING! if condition is never fulfilled, the while loop will run forever.\n",
    "\n",
    "while condition(s) evalute(s) to True:\n",
    "    # keep doing the instructions in here\n",
    "    # don't forget to indent!\n",
    "    \n",
    "# once the condition evaluates to False, we step out of the loop"
   ]
  },
  {
   "cell_type": "code",
   "execution_count": 68,
   "metadata": {
    "slideshow": {
     "slide_type": "subslide"
    }
   },
   "outputs": [
    {
     "name": "stdout",
     "output_type": "stream",
     "text": [
      "I'm so happy!!!!\n",
      "I'm so happy!!!\n",
      "I'm so happy!!\n",
      "I'm so happy!\n",
      "I'm so happy!\n"
     ]
    }
   ],
   "source": [
    "# if a string ends with multiple exclamation marks, remove all but one.\n",
    "\n",
    "string = \"I'm so happy!!!!!\"\n",
    "\n",
    "\n",
    "while string[-1] == '!' and string[-2] == '!':\n",
    "    string = string[:-1]\n",
    "    print(string)\n",
    "    \n",
    "print(string)\n"
   ]
  },
  {
   "cell_type": "markdown",
   "metadata": {
    "slideshow": {
     "slide_type": "slide"
    }
   },
   "source": [
    "## <center>Exercise 7</center>\n"
   ]
  },
  {
   "cell_type": "code",
   "execution_count": 36,
   "metadata": {},
   "outputs": [],
   "source": [
    "# remove any trailing spaces from a string and print the stripped string.\n",
    "\n",
    "string = \"There are some extra spaces at the end of this string.    \"\n"
   ]
  }
 ],
 "metadata": {
  "celltoolbar": "Slideshow",
  "kernelspec": {
   "display_name": "Python 3",
   "language": "python",
   "name": "python3"
  },
  "language_info": {
   "codemirror_mode": {
    "name": "ipython",
    "version": 3
   },
   "file_extension": ".py",
   "mimetype": "text/x-python",
   "name": "python",
   "nbconvert_exporter": "python",
   "pygments_lexer": "ipython3",
   "version": "3.6.7"
  }
 },
 "nbformat": 4,
 "nbformat_minor": 2
}
