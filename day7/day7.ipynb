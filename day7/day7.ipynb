{
 "cells": [
  {
   "cell_type": "markdown",
   "metadata": {
    "slideshow": {
     "slide_type": "slide"
    }
   },
   "source": [
    "## <center>What we learnt yesterday... </center>\n",
    "##### - compared regression, classification, and clustering\n",
    "##### - linear and logistic regression\n",
    "##### - mean squared error and accuracy metric\n",
    "##### - bias-variance trade-off and the ML pipeline"
   ]
  },
  {
   "cell_type": "markdown",
   "metadata": {
    "slideshow": {
     "slide_type": "slide"
    }
   },
   "source": [
    "## <center>Intro to Machine Learning, part 2 </center>\n",
    "### By the end of the day, you will be able to\n",
    "#### - describe how decision trees and tree-based ensemble methods work\n",
    "#### - choose classification metric to evaluate your classification model\n",
    "#### - choose regression metric to evaluate your regression model\n",
    "#### - design more complex ML pipelines"
   ]
  },
  {
   "cell_type": "markdown",
   "metadata": {
    "slideshow": {
     "slide_type": "slide"
    }
   },
   "source": [
    "## <center>Decision trees and random forests</center>\n",
    "### Decision tree: the data is split according to certain features\n",
    "### Here is an example tree fitted to data:\n",
    "\n",
    "<center><img src=https://www.xoriant.com/blog/wp-content/uploads/2017/08/Decision-Trees-modified-1.png width=\"500\"></center>"
   ]
  },
  {
   "cell_type": "markdown",
   "metadata": {
    "slideshow": {
     "slide_type": "subslide"
    }
   },
   "source": [
    "<center><img src=https://www.xoriant.com/blog/wp-content/uploads/2017/08/Decision-Trees-modified-1.png width=\"500\"></center>\n",
    "\n",
    "#### Trees have nodes and leaves.\n",
    "#### The max depth of the tree is a hyperparameter.\n",
    "#### The critical values and features in the nodes are parameters."
   ]
  },
  {
   "cell_type": "markdown",
   "metadata": {
    "slideshow": {
     "slide_type": "subslide"
    }
   },
   "source": [
    "#### Random forest: ensemble of random decision trees\n",
    "#### Each tree sees a random subset of the training data, that's why the forest is random.\n",
    "\n",
    "<center><img src=https://cdn-images-1.medium.com/max/1600/1*i0o8mjFfCn-uD79-F1Cqkw.png width=\"450\"></center>\n",
    "\n",
    "#### The number of trees is a hyperparameter.\n"
   ]
  },
  {
   "cell_type": "markdown",
   "metadata": {
    "slideshow": {
     "slide_type": "slide"
    }
   },
   "source": [
    "### <center>Exercise 1 </center>\n",
    "#### Create a decision tree with max_depth = 2 to predict the target variable! What is your tree's prediction for each person?\n",
    "#### Remember, your tree does not need predict everyone perfectly.\n",
    "#### It just needs to get as many people as possible right."
   ]
  },
  {
   "cell_type": "markdown",
   "metadata": {
    "slideshow": {
     "slide_type": "subslide"
    }
   },
   "source": [
    "| X|age|gender (M=0, F=1)|is student?|is parent?|uses computer for work?|nr. of hours on c.|<font color='red'>Like computer games?</font>|\n",
    "|-|:-:|:-:|:-:|:-:|:-:|:-:|:-:|\n",
    "|__person 1__| 5|0|1|0|0|0.0|__<font color='red'>1</font>__|\n",
    "|__person 2__|48|1|0|1|0|1.8|__<font color='red'>1</font>__|\n",
    "|__person 3__|62|0|0|1|0|0.2|__<font color='red'>0</font>__|\n",
    "|__person 4__|10|1|1|0|0|2.4|__<font color='red'>1</font>__|\n",
    "|__person 5__|23|1|1|0|1|4.2|__<font color='red'>0</font>__|\n",
    "|__person 6__|36|0|0|0|1|3.1|__<font color='red'>1</font>__|\n",
    "|__person 7__|12|0|1|0|0|3.1|__<font color='red'>1</font>__|\n",
    "|__person 8__|85|0|0|0|1|1.0|__<font color='red'>0</font>__|\n",
    "|__person 9__|33|1|1|1|0|1.5|__<font color='red'>0</font>__|\n",
    "|__person 10__|56|0|0|0|1|0.1|__<font color='red'>1</font>__|"
   ]
  },
  {
   "cell_type": "markdown",
   "metadata": {
    "slideshow": {
     "slide_type": "subslide"
    }
   },
   "source": [
    "### <center> Random forest in regression</center>"
   ]
  },
  {
   "cell_type": "code",
   "execution_count": 1,
   "metadata": {
    "slideshow": {
     "slide_type": "-"
    }
   },
   "outputs": [],
   "source": [
    "import numpy as np\n",
    "from sklearn.ensemble import RandomForestRegressor\n",
    "\n",
    "# the true function\n",
    "def true_fun(X):\n",
    "    return np.cos(1.5 * np.pi * X)\n"
   ]
  },
  {
   "cell_type": "code",
   "execution_count": 2,
   "metadata": {
    "slideshow": {
     "slide_type": "subslide"
    }
   },
   "outputs": [],
   "source": [
    "# create training data X and y\n",
    "np.random.seed(10)\n",
    "n_samples = 30\n",
    "X = np.random.rand(n_samples)\n",
    "y = true_fun(X) + np.random.randn(n_samples) * 0.1\n"
   ]
  },
  {
   "cell_type": "code",
   "execution_count": 3,
   "metadata": {
    "slideshow": {
     "slide_type": "subslide"
    }
   },
   "outputs": [],
   "source": [
    "# set hyperparameters\n",
    "reg = RandomForestRegressor(n_estimators=1,max_depth=1,random_state=0)\n",
    "# train the model to obtain model parameters\n",
    "reg.fit(X[:, np.newaxis],y)\n",
    "# create X_new\n",
    "X_new = np.linspace(0, 1, 100)\n",
    "# predict y_new\n",
    "y_new = reg.predict(X_new[:, np.newaxis])\n",
    "\n"
   ]
  },
  {
   "cell_type": "markdown",
   "metadata": {
    "slideshow": {
     "slide_type": "subslide"
    }
   },
   "source": [
    "<center><img src=\"forest_reg.jpg\" width=\"800\"></center>\n"
   ]
  },
  {
   "cell_type": "markdown",
   "metadata": {
    "slideshow": {
     "slide_type": "subslide"
    }
   },
   "source": [
    "### <center>Random forest in classification</center>"
   ]
  },
  {
   "cell_type": "code",
   "execution_count": null,
   "metadata": {
    "slideshow": {
     "slide_type": "-"
    }
   },
   "outputs": [],
   "source": [
    "from sklearn.datasets import make_moons\n",
    "import numpy as np\n",
    "from sklearn.ensemble import RandomForestClassifier\n",
    "\n",
    "# create the data\n",
    "X,y = make_moons(noise=0.2, random_state=1,n_samples=200)\n",
    "# set the hyperparameters\n",
    "clf = RandomForestClassifier(n_estimators=1,max_depth=3,random_state=0)\n",
    "# fit the model\n",
    "clf.fit(X,y)\n",
    "# predict new data\n",
    "#y_new = clf.predict(X_new)\n",
    "# predict probabilities\n",
    "#y_new = clf.predict_proba(X_new)"
   ]
  },
  {
   "cell_type": "markdown",
   "metadata": {
    "collapsed": true,
    "slideshow": {
     "slide_type": "subslide"
    }
   },
   "source": [
    "<center><img src=\"forest_clf.jpg\" width=\"650\"></center>"
   ]
  },
  {
   "cell_type": "markdown",
   "metadata": {
    "slideshow": {
     "slide_type": "slide"
    }
   },
   "source": [
    "## An ML pipeline with random forest"
   ]
  },
  {
   "cell_type": "code",
   "execution_count": 4,
   "metadata": {
    "slideshow": {
     "slide_type": "-"
    }
   },
   "outputs": [],
   "source": [
    "import numpy as np\n",
    "from sklearn.datasets import make_moons\n",
    "from sklearn.ensemble import RandomForestClassifier\n",
    "from sklearn.metrics import accuracy_score\n",
    "from sklearn.model_selection import train_test_split\n",
    "import matplotlib.pyplot as plt\n",
    "import matplotlib\n",
    "matplotlib.rcParams.update({'font.size': 16})\n",
    "\n",
    "np.random.seed(10)\n",
    "\n",
    "# generate labeled data\n",
    "X,y = make_moons(noise=0.2, random_state=1,n_samples=200)"
   ]
  },
  {
   "cell_type": "code",
   "execution_count": 5,
   "metadata": {
    "slideshow": {
     "slide_type": "subslide"
    }
   },
   "outputs": [
    {
     "name": "stdout",
     "output_type": "stream",
     "text": [
      "(120, 2)\n",
      "(40, 2)\n",
      "(40, 2)\n"
     ]
    }
   ],
   "source": [
    "# split data into three parts (60-20-20%)\n",
    "X_rest, X_test, y_rest, y_test = train_test_split(X,y,test_size=0.2,train_size=0.8)\n",
    "X_train, X_CV, y_train, y_CV = train_test_split(X_rest,y_rest,test_size = 0.25,train_size =0.75)\n",
    "\n",
    "# check the split\n",
    "print(np.shape(X_train))\n",
    "print(np.shape(X_CV))\n",
    "print(np.shape(X_test))\n",
    "# (120, 2)\n",
    "# (40, 2)\n",
    "# (40, 2)"
   ]
  },
  {
   "cell_type": "code",
   "execution_count": 6,
   "metadata": {
    "slideshow": {
     "slide_type": "subslide"
    }
   },
   "outputs": [],
   "source": [
    "# hyperparameter values to try\n",
    "n_estimators = [1,3,10,30,100,300,1000]\n",
    "max_depth = [1,3,10,30,100]\n",
    "\n",
    "# arrays for training and test scores\n",
    "train_score = np.zeros([len(n_estimators),len(max_depth)])\n",
    "CV_score = np.zeros([len(n_estimators),len(max_depth)])"
   ]
  },
  {
   "cell_type": "code",
   "execution_count": 7,
   "metadata": {
    "slideshow": {
     "slide_type": "subslide"
    }
   },
   "outputs": [],
   "source": [
    "# loop through the combinations of hyperparameters\n",
    "for n in range(len(n_estimators)):\n",
    "    for m in range(len(max_depth)):\n",
    "        # initialize the classifier\n",
    "        clf = RandomForestClassifier(n_estimators = n_estimators[n],max_depth=max_depth[m],random_state=10)\n",
    "        # fit the training data\n",
    "        clf.fit(X_train,y_train)\n",
    "        # predict the training data\n",
    "        y_p_train = clf.predict(X_train)\n",
    "        # predict the test data\n",
    "        y_p_CV = clf.predict(X_CV)\n",
    "        \n",
    "        # measure classifier performance with accuracy: what fraction of points are correctly classified?\n",
    "        train_score[n,m] = accuracy_score(y_train,y_p_train)\n",
    "        CV_score[n,m] = accuracy_score(y_CV,y_p_CV)\n",
    "\n",
    "        "
   ]
  },
  {
   "cell_type": "code",
   "execution_count": 16,
   "metadata": {
    "slideshow": {
     "slide_type": "subslide"
    }
   },
   "outputs": [
    {
     "data": {
      "image/png": "[encoded data removed]",
      "text/plain": [
       "<Figure size 720x360 with 4 Axes>"
      ]
     },
     "metadata": {
      "needs_background": "light"
     },
     "output_type": "display_data"
    }
   ],
   "source": [
    "# plot the train and test scores\n",
    "matplotlib.rcParams.update({'font.size': 16})\n",
    "\n",
    "plt.figure(figsize=(10,5))\n",
    "\n",
    "plt.subplot(1,2,1)\n",
    "plt.imshow(train_score,origin='lower',vmin=0.7,vmax=1e0)\n",
    "plt.xticks(np.arange(len(max_depth)),max_depth)\n",
    "plt.yticks(np.arange(len(n_estimators)),n_estimators)\n",
    "plt.xlabel('max_depth')\n",
    "plt.ylabel('nr. trees')\n",
    "plt.title('train accuracy')\n",
    "plt.colorbar(label='accuracy score')\n",
    "\n",
    "plt.subplot(1,2,2)\n",
    "plt.imshow(CV_score,origin='lower',vmin=0.7,vmax=1e0)\n",
    "plt.xticks(np.arange(len(max_depth)),max_depth)\n",
    "plt.yticks(np.arange(len(n_estimators)),n_estimators)\n",
    "plt.xlabel('max_depth')\n",
    "plt.ylabel('nr. trees')\n",
    "plt.title('CV accuracy')\n",
    "plt.colorbar(label='accuracy score')\n",
    "\n",
    "plt.tight_layout()\n",
    "\n",
    "plt.savefig('ml_pipeline.jpg',dpi=150)\n",
    "plt.show()"
   ]
  },
  {
   "cell_type": "markdown",
   "metadata": {
    "slideshow": {
     "slide_type": "subslide"
    }
   },
   "source": [
    "<center><img src=\"ml_pipeline.jpg\" width=\"650\"></center>"
   ]
  },
  {
   "cell_type": "code",
   "execution_count": 9,
   "metadata": {
    "slideshow": {
     "slide_type": "subslide"
    }
   },
   "outputs": [
    {
     "name": "stdout",
     "output_type": "stream",
     "text": [
      "0.95\n"
     ]
    }
   ],
   "source": [
    "# initialize the best classifier\n",
    "clf = RandomForestClassifier(n_estimators=10,max_depth=10,random_state=10)\n",
    "# fit the training data\n",
    "clf.fit(X_train,y_train)\n",
    "# predict the holdout\n",
    "y_pred = clf.predict(X_test)\n",
    "# report the accuracy score\n",
    "print(accuracy_score(y_test,y_pred))\n"
   ]
  },
  {
   "cell_type": "markdown",
   "metadata": {
    "slideshow": {
     "slide_type": "slide"
    }
   },
   "source": [
    "### <center>Metrics to evaluate your supervised ML models</center>\n",
    "#### <center>Regression</center>\n",
    "##### <center>Mean Squared Error: $MSE(y,y') = \\frac{1}{n}\\sum_{i=1}^{n}(y_i-y_i')^2$</center>\n",
    "##### <center>Mean Absolute Error: $MAE(y,y') = \\frac{1}{n}\\sum_{i=1}^{n}|y_i-y_i'|$</center>\n",
    "##### <center>Coefficient of determination: $R^2(y,y') = 1 - \\frac{\\sum_i(y_i-y'_i)^2}{\\sum_i(y_i-\\bar{y})^2}$, where $\\bar{y}$ is the average of $y$</center>\n"
   ]
  },
  {
   "cell_type": "markdown",
   "metadata": {
    "slideshow": {
     "slide_type": "slide"
    }
   },
   "source": [
    "### <center>Exercise 2 </center>\n",
    "#### y = [19, 25, 45,  67, 15]\n",
    "#### y' = [18, 30, 44, 20, 19]\n",
    "#### What is the MSE, MAE,  and R2?\n",
    "\n",
    "\n"
   ]
  },
  {
   "cell_type": "markdown",
   "metadata": {
    "slideshow": {
     "slide_type": "slide"
    }
   },
   "source": [
    "### <center>Classification: confusion matrix</center>\n",
    "\n",
    "<table>\n",
    "    <tr>\n",
    "        <td colspan=\"2\" rowspan=\"2\"></td>\n",
    "        <td colspan=\"2\">Predicted class</td>\t\t\t\n",
    "    </tr>\n",
    "    <tr>\n",
    "        <td>Predicted Negative (0)</td>\n",
    "        <td>Predicted Positive (1)</td>\n",
    "    </tr>\n",
    "    <tr>\n",
    "        <td rowspan=\"2\">Actual class</td>\n",
    "        <td>Condition Negative (0)</td>\n",
    "        <td><b>True Negative (TN)</b></td>\n",
    "        <td><b>False Positive (FP)</b></td>\n",
    "    </tr>\n",
    "    <tr>\n",
    "        <td>Condition Positive (1)</td>\n",
    "        <td><b>False Negative (FN)</b></td>\n",
    "        <td><b>True Positive (TP)</b></td>\n",
    "    </tr>\n",
    "</table>\n",
    "\n",
    "### We want single number metrics to easily compare models.\n",
    "#### accuracy = (TN + TP) / (TN+TP+FN+FP)"
   ]
  },
  {
   "cell_type": "markdown",
   "metadata": {
    "slideshow": {
     "slide_type": "subslide"
    }
   },
   "source": [
    "<table>\n",
    "    <tr>\n",
    "        <td colspan=\"2\" rowspan=\"2\"></td>\n",
    "        <td colspan=\"2\">Predicted class</td>\t\t\t\n",
    "    </tr>\n",
    "    <tr>\n",
    "        <td>Predicted Negative (0)</td>\n",
    "        <td>Predicted Positive (1)</td>\n",
    "    </tr>\n",
    "    <tr>\n",
    "        <td rowspan=\"2\">Actual class</td>\n",
    "        <td>Condition Negative (0)</td>\n",
    "        <td><b>True Negative (TN)</b></td>\n",
    "        <td><b>False Positive (FP)</b></td>\n",
    "    </tr>\n",
    "    <tr>\n",
    "        <td>Condition Positive (1)</td>\n",
    "        <td><b>False Negative (FN)</b></td>\n",
    "        <td><b>True Positive (TP)</b></td>\n",
    "    </tr>\n",
    "</table>\n",
    "\n",
    "#### R = TP / (TP + FN)\n",
    "#### Recall is the fraction of correctly identified samples out of all condition positive samples.\n",
    "#### P = TP / (TP + FP)\n",
    "#### Precision is the fraction of correctly identified samples out of all the predicted positive samples."
   ]
  },
  {
   "cell_type": "markdown",
   "metadata": {
    "slideshow": {
     "slide_type": "subslide"
    }
   },
   "source": [
    "<table>\n",
    "    <tr>\n",
    "        <td colspan=\"2\" rowspan=\"2\"></td>\n",
    "        <td colspan=\"2\">Predicted class</td>\t\t\t\n",
    "    </tr>\n",
    "    <tr>\n",
    "        <td>Predicted Negative (0)</td>\n",
    "        <td>Predicted Positive (1)</td>\n",
    "    </tr>\n",
    "    <tr>\n",
    "        <td rowspan=\"2\">Actual class</td>\n",
    "        <td>Condition Negative (0)</td>\n",
    "        <td><b>True Negative (TN)</b></td>\n",
    "        <td><b>False Positive (FP)</b></td>\n",
    "    </tr>\n",
    "    <tr>\n",
    "        <td>Condition Positive (1)</td>\n",
    "        <td><b>False Negative (FN)</b></td>\n",
    "        <td><b>True Positive (TP)</b></td>\n",
    "    </tr>\n",
    "</table>\n",
    "\n",
    "#### F1  = 2 ( P * R ) / ( P + R )\n",
    "#### F1 score is the harmonic mean of precision and recall. Ideal if your problem is imbalanced."
   ]
  },
  {
   "cell_type": "markdown",
   "metadata": {
    "slideshow": {
     "slide_type": "slide"
    }
   },
   "source": [
    "### <center>Exercise 3</center>\n",
    "<table>\n",
    "    <tr>\n",
    "        <td colspan=\"2\" rowspan=\"2\"></td>\n",
    "        <td colspan=\"2\">Predicted class</td>\t\t\t\n",
    "    </tr>\n",
    "    <tr>\n",
    "        <td>Predicted Negative (0)</td>\n",
    "        <td>Predicted Positive (1)</td>\n",
    "    </tr>\n",
    "    <tr>\n",
    "        <td rowspan=\"2\">Actual class</td>\n",
    "        <td>Condition Negative (0)</td>\n",
    "        <td><b>87</b></td>\n",
    "        <td><b>10</b></td>\n",
    "    </tr>\n",
    "    <tr>\n",
    "        <td>Condition Positive (1)</td>\n",
    "        <td><b>6</b></td>\n",
    "        <td><b>36</b></td>\n",
    "    </tr>\n",
    "</table>\n",
    "\n",
    "#### What are the accuracy, recall, precision, and f1 scores?"
   ]
  },
  {
   "cell_type": "markdown",
   "metadata": {
    "slideshow": {
     "slide_type": "slide"
    }
   },
   "source": [
    "### <center>Exercise 4</center>\n",
    "#### Which metric would you use in the following problems and why?\n",
    "#### 1. Predict which emails are spam.\n",
    "#### 2. Predict tomorrow's temperature.\n",
    "#### 3. Predict if a patient is sick.\n",
    "#### 4. Predict the letter grade of essays.\n"
   ]
  },
  {
   "cell_type": "markdown",
   "metadata": {
    "slideshow": {
     "slide_type": "slide"
    }
   },
   "source": [
    "### <center>Recap </center>\n",
    "#### Now you can\n",
    "##### - decide which problems can be solved by machine learning and why\n",
    "##### - describe the similarities and differences between regression, classification, and clustering\n",
    "##### - describe the bias-variance tradeoff in supervised problems\n",
    "##### - design a ML pipeline and select an appropriate metric to measure performance\n"
   ]
  }
 ],
 "metadata": {
  "celltoolbar": "Slideshow",
  "kernelspec": {
   "display_name": "Python 3",
   "language": "python",
   "name": "python3"
  },
  "language_info": {
   "codemirror_mode": {
    "name": "ipython",
    "version": 3
   },
   "file_extension": ".py",
   "mimetype": "text/x-python",
   "name": "python",
   "nbconvert_exporter": "python",
   "pygments_lexer": "ipython3",
   "version": "3.6.7"
  }
 },
 "nbformat": 4,
 "nbformat_minor": 2
}
