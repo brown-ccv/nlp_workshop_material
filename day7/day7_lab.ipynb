{
 "cells": [
  {
   "cell_type": "code",
   "execution_count": null,
   "metadata": {},
   "outputs": [],
   "source": [
    "#\n",
    "# day 7 lab\n",
    "#\n",
    "\n",
    "# Same as yesterday but use the random forest classifier and tune the number of trees and the max_depth.\n",
    "\n",
    "# If you have time, try other classification metrics in the pipeline like precision, recall, f1 score. \n",
    "# Do the best hyperparameters differ for various classfication metrics?"
   ]
  }
 ],
 "metadata": {
  "kernelspec": {
   "display_name": "Python 3",
   "language": "python",
   "name": "python3"
  },
  "language_info": {
   "codemirror_mode": {
    "name": "ipython",
    "version": 3
   },
   "file_extension": ".py",
   "mimetype": "text/x-python",
   "name": "python",
   "nbconvert_exporter": "python",
   "pygments_lexer": "ipython3",
   "version": "3.6.7"
  }
 },
 "nbformat": 4,
 "nbformat_minor": 2
}
