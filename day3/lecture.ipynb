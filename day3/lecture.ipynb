{
 "cells": [
  {
   "cell_type": "markdown",
   "metadata": {
    "slideshow": {
     "slide_type": "slide"
    }
   },
   "source": [
    "# Please go to https://ccv.jupyter.brown.edu"
   ]
  },
  {
   "cell_type": "markdown",
   "metadata": {
    "slideshow": {
     "slide_type": "slide"
    }
   },
   "source": [
    "## What we learned so far...\n",
    "- Container types: lists, arrays, dictionaries, tuples, sets, dataframes\n",
    "- Casting between container types\n",
    "- How to read and debug error tracebacks"
   ]
  },
  {
   "cell_type": "markdown",
   "metadata": {
    "slideshow": {
     "slide_type": "slide"
    }
   },
   "source": [
    "# 3. Functions\n",
    "### By the end of the day you'll be able to\n",
    "- Write functions for making code organized and reusable\n",
    "- Constructing sequences from other sequences using comprehensions\n",
    "- Write code for error handling"
   ]
  },
  {
   "cell_type": "markdown",
   "metadata": {
    "slideshow": {
     "slide_type": "slide"
    }
   },
   "source": [
    "## 3.1 Defining Functions"
   ]
  },
  {
   "cell_type": "markdown",
   "metadata": {
    "slideshow": {
     "slide_type": "subslide"
    }
   },
   "source": [
    "- Functions are discrete units of code\n",
    "- Similar to functions in mathematics\n",
    "  + Take some input, return some output (_usually_)"
   ]
  },
  {
   "cell_type": "code",
   "execution_count": null,
   "metadata": {
    "slideshow": {
     "slide_type": "subslide"
    }
   },
   "outputs": [],
   "source": [
    "# Define simple function.\n",
    "# Note: Indentation used to denote function body\n",
    "\n",
    "def add_one(n):\n",
    "    res = n + 1\n",
    "    return res\n",
    "\n",
    "add_one(42)"
   ]
  },
  {
   "cell_type": "code",
   "execution_count": null,
   "metadata": {
    "slideshow": {
     "slide_type": "subslide"
    }
   },
   "outputs": [],
   "source": [
    "# Function with multiple arguments\n",
    "\n",
    "def add_val(n, val):\n",
    "    res = n + val\n",
    "    return res \n",
    "\n",
    "add_val(42, 137)"
   ]
  },
  {
   "cell_type": "code",
   "execution_count": null,
   "metadata": {
    "slideshow": {
     "slide_type": "subslide"
    }
   },
   "outputs": [],
   "source": [
    "# Function to determine if number is even\n",
    "\n",
    "def is_even(n):\n",
    "    ans = n % 2 == 0\n",
    "    return ans\n",
    "\n",
    "is_even(16)"
   ]
  },
  {
   "cell_type": "code",
   "execution_count": null,
   "metadata": {
    "slideshow": {
     "slide_type": "fragment"
    }
   },
   "outputs": [],
   "source": [
    "# Functions that call other functions\n",
    "\n",
    "def is_odd(n):\n",
    "    res = not is_even(n)\n",
    "    return res\n",
    "\n",
    "is_odd(30)"
   ]
  },
  {
   "cell_type": "code",
   "execution_count": null,
   "metadata": {
    "slideshow": {
     "slide_type": "subslide"
    }
   },
   "outputs": [],
   "source": [
    "# Functions that return multiple values\n",
    "\n",
    "def mean_sd(numbers):\n",
    "    from statistics import mean, stdev\n",
    "    m = mean(numbers)\n",
    "    sd = stdev(numbers)\n",
    "    \n",
    "    return m, sd"
   ]
  },
  {
   "cell_type": "code",
   "execution_count": null,
   "metadata": {
    "slideshow": {
     "slide_type": "fragment"
    }
   },
   "outputs": [],
   "source": [
    "m, sd = mean_sd([1,1,2,4,6,6,6,9,9])\n",
    "m, sd"
   ]
  },
  {
   "cell_type": "markdown",
   "metadata": {
    "slideshow": {
     "slide_type": "subslide"
    }
   },
   "source": [
    "# Exercise 1\n",
    "### Write a function that lowercases a sentence and splits it into words. "
   ]
  },
  {
   "cell_type": "code",
   "execution_count": null,
   "metadata": {
    "slideshow": {
     "slide_type": "subslide"
    }
   },
   "outputs": [],
   "source": [
    "# Solution\n",
    "\n"
   ]
  },
  {
   "cell_type": "markdown",
   "metadata": {
    "slideshow": {
     "slide_type": "slide"
    }
   },
   "source": [
    "## 3.2 Using Named Arguments\n",
    "- So far, we been using \"positional\" matching of arguments\n",
    "- More complicated functions can take many arguments\n",
    "- Remembering the order of the arguments can get tricky\n",
    "- Python allows keyword arguments"
   ]
  },
  {
   "cell_type": "code",
   "execution_count": null,
   "metadata": {
    "slideshow": {
     "slide_type": "subslide"
    }
   },
   "outputs": [],
   "source": [
    "# Define our function\n",
    "\n",
    "def make_sentence(subj, verb, obj):\n",
    "    res = subj + \" \" + verb + \" \" + obj\n",
    "    return res"
   ]
  },
  {
   "cell_type": "code",
   "execution_count": null,
   "metadata": {
    "slideshow": {
     "slide_type": "fragment"
    }
   },
   "outputs": [],
   "source": [
    "# Run our function\n",
    "make_sentence(\"paul\", \"ate\", \"the potato\")"
   ]
  },
  {
   "cell_type": "code",
   "execution_count": null,
   "metadata": {
    "slideshow": {
     "slide_type": "fragment"
    }
   },
   "outputs": [],
   "source": [
    "# Change order of keyword arguments\n",
    "make_sentence(\"the potato\", \"ate\", \"paul\")"
   ]
  },
  {
   "cell_type": "code",
   "execution_count": null,
   "metadata": {
    "slideshow": {
     "slide_type": "fragment"
    }
   },
   "outputs": [],
   "source": [
    "# Change order of keyword arguments\n",
    "make_sentence(obj=\"the potato\", subj=\"paul\", verb=\"ate\")"
   ]
  },
  {
   "cell_type": "markdown",
   "metadata": {
    "slideshow": {
     "slide_type": "slide"
    }
   },
   "source": [
    "## 3.3 Default Argument Values\n",
    "- Can specify defaults for some (or all) arguments"
   ]
  },
  {
   "cell_type": "code",
   "execution_count": null,
   "metadata": {
    "slideshow": {
     "slide_type": "subslide"
    }
   },
   "outputs": [],
   "source": [
    "# Define function with default value for `letter` argument\n",
    "def remove_punctuation(s, punct=\":;,.()!?/\\\\'\\\"-+\"):\n",
    "    for p in punct:\n",
    "        s = s.replace(p, \"\")\n",
    "    return s"
   ]
  },
  {
   "cell_type": "code",
   "execution_count": null,
   "metadata": {
    "slideshow": {
     "slide_type": "fragment"
    }
   },
   "outputs": [],
   "source": [
    "remove_punctuation(\"It began as a mistake; or did it???\")"
   ]
  },
  {
   "cell_type": "code",
   "execution_count": null,
   "metadata": {
    "slideshow": {
     "slide_type": "fragment"
    }
   },
   "outputs": [],
   "source": [
    "remove_punctuation(\"It began as a mistake; or did it???\", \"?\")"
   ]
  },
  {
   "cell_type": "markdown",
   "metadata": {
    "slideshow": {
     "slide_type": "subslide"
    }
   },
   "source": [
    "## Exercise 2\n",
    "\n",
    "Write a function that takes a single character as an argument and then determines whether or not the character is a vowel. \n",
    "\n",
    "Note that we will assume only strings of length 1 will be passed to this function; there is no need to implement a check for this. And, let's include the letter \"Y\" in with the other vowels."
   ]
  },
  {
   "cell_type": "code",
   "execution_count": null,
   "metadata": {
    "slideshow": {
     "slide_type": "fragment"
    }
   },
   "outputs": [],
   "source": [
    "# Solution\n",
    "\n"
   ]
  },
  {
   "cell_type": "markdown",
   "metadata": {
    "slideshow": {
     "slide_type": "slide"
    }
   },
   "source": [
    "## 3.4 Functions and Scope\n",
    "\n",
    "#### Scope:\n",
    "The scope of a variable refers to the places where you can see and access it.\n",
    "\n",
    "- Global scope can be considered the top level\n",
    "- Functions introduce \"local scope\""
   ]
  },
  {
   "cell_type": "code",
   "execution_count": null,
   "metadata": {
    "slideshow": {
     "slide_type": "subslide"
    }
   },
   "outputs": [],
   "source": [
    "# local variables cannot be used in the global scope\n",
    "def add_one(n):\n",
    "    print(n)\n",
    "    res = n + 1\n",
    "    return res\n",
    "\n",
    "print(add_one(42))\n",
    "print(n)  "
   ]
  },
  {
   "cell_type": "code",
   "execution_count": null,
   "metadata": {
    "slideshow": {
     "slide_type": "fragment"
    }
   },
   "outputs": [],
   "source": [
    "# global variables can be read from a local scope\n",
    "def breakfast():\n",
    "    print(eggs)\n",
    "    \n",
    "eggs = 'over easy'\n",
    "breakfast()"
   ]
  },
  {
   "cell_type": "markdown",
   "metadata": {
    "slideshow": {
     "slide_type": "subslide"
    }
   },
   "source": [
    "# Exercise 3\n",
    "### Fix the code below:"
   ]
  },
  {
   "cell_type": "code",
   "execution_count": null,
   "metadata": {
    "slideshow": {
     "slide_type": "fragment"
    }
   },
   "outputs": [],
   "source": [
    "def trim(s):\n",
    "    c = s.strip()\n",
    "    return c\n",
    "\n",
    "trim(' hi hello   ')\n",
    "print(c)"
   ]
  },
  {
   "cell_type": "code",
   "execution_count": null,
   "metadata": {
    "slideshow": {
     "slide_type": "subslide"
    }
   },
   "outputs": [],
   "source": [
    "# Solution\n",
    "def trim(s):\n",
    "    c = s.strip()\n",
    "    return c\n",
    "\n",
    "c = trim(' hi hello   ')\n",
    "print(c)"
   ]
  },
  {
   "cell_type": "markdown",
   "metadata": {
    "slideshow": {
     "slide_type": "slide"
    }
   },
   "source": [
    "## 3.5 Exception Handling\n",
    "\n",
    "As we have written code up until now, getting an error (or exception) means your entire program will crash. Instead, we can detect errors, handle them, and continue to run."
   ]
  },
  {
   "cell_type": "code",
   "execution_count": null,
   "metadata": {
    "slideshow": {
     "slide_type": "subslide"
    }
   },
   "outputs": [],
   "source": [
    "def lower_reverse(s):\n",
    "    s_lwr = s.lower()\n",
    "    s_rev = s_lwr[::-1]\n",
    "    return s_rev\n",
    "\n",
    "lower_reverse(\"NOPE\")"
   ]
  },
  {
   "cell_type": "code",
   "execution_count": null,
   "metadata": {
    "slideshow": {
     "slide_type": "fragment"
    }
   },
   "outputs": [],
   "source": [
    "lower_reverse(999)"
   ]
  },
  {
   "cell_type": "code",
   "execution_count": null,
   "metadata": {
    "slideshow": {
     "slide_type": "subslide"
    }
   },
   "outputs": [],
   "source": [
    "def lower_reverse(s):\n",
    "    try:\n",
    "        s_lwr = s.lower()\n",
    "        s_rev = s_lwr[::-1]\n",
    "        return s_rev\n",
    "    except:\n",
    "        print('error: invalid argument')\n",
    "        \n",
    "lower_reverse(999)"
   ]
  },
  {
   "cell_type": "markdown",
   "metadata": {
    "slideshow": {
     "slide_type": "slide"
    }
   },
   "source": [
    "## 3.6 List Comprehensions\n",
    "\n",
    "\n",
    "* A construct that allows sequences to be built from other sequences\n",
    "* Consists of the following parts:\n",
    "    + Input Sequence\n",
    "    + Variable (representing members of the Input Sequence)\n",
    "    + Output Expression\n",
    "    + Predicate Expression (optional)\n",
    "    \n",
    "`[output_expression for variable in input_sequence <predicate_expression>]`"
   ]
  },
  {
   "cell_type": "code",
   "execution_count": null,
   "metadata": {
    "slideshow": {
     "slide_type": "subslide"
    }
   },
   "outputs": [],
   "source": [
    "integer_list = [1, 9, 0, 4, 4, 9]"
   ]
  },
  {
   "cell_type": "code",
   "execution_count": null,
   "metadata": {
    "slideshow": {
     "slide_type": "fragment"
    }
   },
   "outputs": [],
   "source": [
    "doubled_ints = [integer*2 for integer in integer_list]\n",
    "\n",
    "doubled_ints"
   ]
  },
  {
   "cell_type": "code",
   "execution_count": null,
   "metadata": {
    "slideshow": {
     "slide_type": "fragment"
    }
   },
   "outputs": [],
   "source": [
    "doubled_ints = []\n",
    "\n",
    "for integer in integer_list:\n",
    "    doubled_ints.append(integer*2)\n",
    "    \n",
    "doubled_ints"
   ]
  },
  {
   "cell_type": "markdown",
   "metadata": {
    "slideshow": {
     "slide_type": "subslide"
    }
   },
   "source": [
    "### 3.6.1 Set Comprehensions\n",
    "\n",
    "* The same as list comprehensions, but produces a set."
   ]
  },
  {
   "cell_type": "code",
   "execution_count": null,
   "metadata": {
    "slideshow": {
     "slide_type": "fragment"
    }
   },
   "outputs": [],
   "source": [
    "integer_list = [1, 9, 0, 4, 4, 9]\n",
    "doubled_ints = [integer*2 for integer in integer_list]"
   ]
  },
  {
   "cell_type": "code",
   "execution_count": null,
   "metadata": {
    "slideshow": {
     "slide_type": "fragment"
    }
   },
   "outputs": [],
   "source": [
    "unique_doubled_ints = {integer*2 for integer in integer_list}\n",
    "unique_doubled_ints"
   ]
  },
  {
   "cell_type": "markdown",
   "metadata": {
    "slideshow": {
     "slide_type": "subslide"
    }
   },
   "source": [
    "# Exercise 4\n",
    "\n",
    "### Using a comprehension, construct a list of unique first names from the below list. The names should be in the following format: Bob rather than BOB or bob or B. \n",
    "\n",
    "names = [ 'Bob', 'JOHN', 'alice', 'bob', 'ALICE', 'J', 'Bob' ]"
   ]
  },
  {
   "cell_type": "code",
   "execution_count": null,
   "metadata": {
    "slideshow": {
     "slide_type": "fragment"
    }
   },
   "outputs": [],
   "source": [
    "# Solution\n",
    "\n"
   ]
  }
 ],
 "metadata": {
  "celltoolbar": "Slideshow",
  "kernelspec": {
   "display_name": "Python 3",
   "language": "python",
   "name": "python3"
  },
  "language_info": {
   "codemirror_mode": {
    "name": "ipython",
    "version": 3
   },
   "file_extension": ".py",
   "mimetype": "text/x-python",
   "name": "python",
   "nbconvert_exporter": "python",
   "pygments_lexer": "ipython3",
   "version": "3.7.0"
  }
 },
 "nbformat": 4,
 "nbformat_minor": 2
}
