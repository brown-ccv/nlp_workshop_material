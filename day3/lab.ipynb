{
 "cells": [
  {
   "cell_type": "markdown",
   "metadata": {},
   "source": [
    "# Exercise 1\n",
    "### Write a function that lowercases a document and splits it into a list of consecutive word pairs. Each word pair should overlap by one word with the next."
   ]
  },
  {
   "cell_type": "code",
   "execution_count": null,
   "metadata": {},
   "outputs": [],
   "source": [
    "doc = \"The Anatolian Shepherd dog was developed to be independent and forceful\""
   ]
  },
  {
   "cell_type": "code",
   "execution_count": null,
   "metadata": {},
   "outputs": [],
   "source": [
    "# Solution\n",
    "\n"
   ]
  },
  {
   "cell_type": "markdown",
   "metadata": {},
   "source": [
    "# Exercise 2\n",
    "### Apply the function in a list comprehension on the following corpus:"
   ]
  },
  {
   "cell_type": "code",
   "execution_count": null,
   "metadata": {},
   "outputs": [],
   "source": [
    "corpus = [\"This breed is gentle, and is tireless when following a scent. Because of its strong tracking instinct, it can be willful and somewhat difficult to obedience train and handle on a leash. Bloodhounds have an affectionate and even-tempered nature with humans, making them excellent family pets.\",\n",
    "\"The Akita is generally seen as territorial about its property, and can be reserved with strangers. It is sometimes described as feline in its actions; it is not unusual for an Akita to clean its face after eating, to preen its kennel mate, and to be fastidious in the house. They are known to be intolerant of other dogs of the same sex, as stated in the AKC breed standard.Since it is a large, powerful dog, the Akita is not considered a breed for a first time dog owner.The breed has been targeted by some countries' breed-specific legislation as a dangerous dog. The Akita is a large, strong, independent and dominant dog. A well-trained Akita should be accepting of non-threatening strangers, otherwise they will treat all strangers in an aggressive manner. As a breed they should be good with children; it is said that the breed has an affinity for children. Not all Akitas will necessarily have the same temperament. Akitas tend to take a socially dominant role with other dogs, and thus caution must be used in situations when Akitas are likely to be around other dogs, especially unfamiliar ones. In particular, Akitas tend to be less tolerant of dogs of the same sex. For this reason, Akitas, unless highly socialized, are not generally well-suited for off-leash dog parks. Sometimes spontaneous, it needs a confident, consistent handler, without which the dog will be very wilful and may become very aggressive to other dogs and animals\",\n",
    "\"In nature, the Great Pyrenees is confident, gentle (especially with children) and affectionate. While territorial and protective of its flock or family when necessary, its general demeanor is of composure and patience and loyalty. It is a strong-willed, independent and reserved breed. It is also attentive, quite fearless and loyal to its duties. The Great Pyrenees' size makes it an imposing guardian. A dog of this breed will patrol its perimeter and may wander away if left off its leash in an unenclosed space. The Great Pyrenees protects its flock by barking and, being nocturnal, tends to bark at night unless trained against such behavior. The Great Pyrenees can be slow to learn new commands, slow to obey and somewhat stubborn to train. For this reason, the breed is ranked 64 (out of 79 ranks covering 131 breeds) in Stanley Coren's The Intelligence of Dogs. Despite this relative stubbornness, it is quite unusual for the Great Pyrenees to become aggressive or turn on its master. It is wary of strangers if the person is not allowed in the house, but will settle down if the owner of the dog seems comfortable with the stranger. This dog was originally bred to be a livestock guard dog and can still be found doing that job on farms and ranches.\",\n",
    "\"The Anatolian Shepherd dog was developed to be independent and forceful, responsible for guarding its master's flocks without human assistance or direction. These traits make it challenging as a pet; owners of dogs of this breed must socialize the dogs to turn them into appropriate companions. They are intelligent and can learn quickly but might choose not to obey. The Anatolian Shepherd Dog is very loyal and can be fiercely possessive and protective of its family, stock and territory. The Anatolian is also a bold, confident dog that does not become overstimulated easily. They are generally curious but aloof with guests. They are not outgoing dogs that want to make friends with everyone and dislike strangers who are too forward. They are calm and observant of their surroundings and may not go looking for trouble, but he may not back down if challenged. An Anatolian that has been agitated may be too angry to be controlled and cannot be stopped on command. According to Turkish shepherds, three Anatolian Shepherd Dogs are capable of overcoming a pack of wolves and injuring one or two of them. These dogs like to roam, as they were bred to travel with their herd and to leave the herd to go hunt for predators before the predators could attack the flock. Therefore, it is recommended to microchip and tag pets. The Anatolian Shepherd is not recommended for life in small quarters. They do well with other animals, including cats if they are introduced while still a puppy and have their own space. They mature between 18–30 months. Due to their history, both puppies and adults seem to have little interest in fetching. Rather, they prefer to run and sometimes swim. Presence of some Anatolian shepherd genes in Alaskan huskies positively correlates with husky work ethic.\",\n",
    "\"How a Chihuahua behaves depends on the genetic temperament of his or her parents and grandparents. Chihuahua owners tend to struggle with housetraining, and often find that their dogs are not compatible with small children. Their small size makes them delicate and vulnerable to injuries and attacks from larger animals. Like all dogs, they benefit from appropriate socialization and training. Chihuahuas can be easily frightened or provoked to attack, so are generally unsuitable for homes with small children. The breed tends to be fiercely loyal to one particular person and in some cases may become overprotective of the person, especially around other people or animals and tend to have a 'clannish' nature, often preferring the companionship of other Chihuahuas or Chihuahua mixes over other dogs. These traits generally make them unsuitable for households with children who are not patient and calm. Chihuahuas love their dens and often burrow themselves in pillows, clothes hampers, and blankets. They are often found under the covers or at the bottom of the bed, deep in the dark and safety of what they perceive as their den. Chihuahuas also enjoy time in sunlight. Chihuahuas sometimes act like cats and climb up to the highest point on a couch, usually on top of the pillows, and curl up into a ball.\"]"
   ]
  },
  {
   "cell_type": "code",
   "execution_count": null,
   "metadata": {},
   "outputs": [],
   "source": [
    "# Solution\n",
    "\n"
   ]
  }
 ],
 "metadata": {
  "kernelspec": {
   "display_name": "Python 3",
   "language": "python",
   "name": "python3"
  },
  "language_info": {
   "codemirror_mode": {
    "name": "ipython",
    "version": 3
   },
   "file_extension": ".py",
   "mimetype": "text/x-python",
   "name": "python",
   "nbconvert_exporter": "python",
   "pygments_lexer": "ipython3",
   "version": "3.7.0"
  }
 },
 "nbformat": 4,
 "nbformat_minor": 2
}
